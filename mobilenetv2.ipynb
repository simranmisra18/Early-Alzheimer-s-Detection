{
 "cells": [
  {
   "cell_type": "code",
   "execution_count": 1,
   "id": "d52b3f7e",
   "metadata": {
    "execution": {
     "iopub.execute_input": "2024-11-24T15:00:47.006250Z",
     "iopub.status.busy": "2024-11-24T15:00:47.005570Z",
     "iopub.status.idle": "2024-11-24T15:01:01.599756Z",
     "shell.execute_reply": "2024-11-24T15:01:01.598655Z"
    },
    "papermill": {
     "duration": 14.602218,
     "end_time": "2024-11-24T15:01:01.601915",
     "exception": false,
     "start_time": "2024-11-24T15:00:46.999697",
     "status": "completed"
    },
    "tags": []
   },
   "outputs": [],
   "source": [
    "import os\n",
    "import torch\n",
    "import torch.nn as nn\n",
    "import torch.optim as optim\n",
    "import torchvision.models as models\n",
    "from torch.utils.data import DataLoader, Dataset\n",
    "import torchvision.transforms as transforms\n",
    "import pandas as pd\n",
    "import numpy as np\n",
    "from sklearn.preprocessing import LabelEncoder\n",
    "import nibabel\n",
    "import matplotlib.pyplot as plt\n",
    "from sklearn.metrics import accuracy_score\n",
    "from torch.utils.data import random_split\n",
    "\n",
    "\n",
    "device = torch.device(\"cuda:0\" if torch.cuda.is_available() else \"cpu\")"
   ]
  },
  {
   "cell_type": "markdown",
   "id": "a8327a96",
   "metadata": {
    "papermill": {
     "duration": 0.003832,
     "end_time": "2024-11-24T15:01:01.610248",
     "exception": false,
     "start_time": "2024-11-24T15:01:01.606416",
     "status": "completed"
    },
    "tags": []
   },
   "source": [
    "# Selecting only the regions needed in for our detection\n",
    "\n",
    "- left cerebral white matter = 2\n",
    "- left hippocampus = 17\n",
    "- right cerebral white matter = 41\n",
    "- right hippocampus = 53"
   ]
  },
  {
   "cell_type": "code",
   "execution_count": 2,
   "id": "2d9ae303",
   "metadata": {
    "execution": {
     "iopub.execute_input": "2024-11-24T15:01:01.619290Z",
     "iopub.status.busy": "2024-11-24T15:01:01.618872Z",
     "iopub.status.idle": "2024-11-24T15:01:01.624949Z",
     "shell.execute_reply": "2024-11-24T15:01:01.624138Z"
    },
    "papermill": {
     "duration": 0.012333,
     "end_time": "2024-11-24T15:01:01.626524",
     "exception": false,
     "start_time": "2024-11-24T15:01:01.614191",
     "status": "completed"
    },
    "tags": []
   },
   "outputs": [],
   "source": [
    "def apply_mask(aseg_image, brain_image, labels = [17, 53, 2, 41]):\n",
    "    from scipy.ndimage import zoom\n",
    "    brain_data = brain_image.get_fdata() \n",
    "    aseg_data = aseg_image.get_fdata() \n",
    "    brain_mask = np.zeros_like(aseg_data)\n",
    "    for label in labels:\n",
    "        brain_mask += np.where((aseg_data == label), 1, 0)\n",
    "\n",
    "    segmented_brain_image = brain_data * brain_mask #applied mask on the brain image\n",
    "#     resized_image = zoom(segmented_brain_image, np.array(target_size) / np.array(segmented_brain_image.shape), order=0)\n",
    "    segmented_brain_image = nibabel.Nifti1Image(segmented_brain_image, affine=None) # Generating the nii image\n",
    "    \n",
    "    return segmented_brain_image\n",
    "\n",
    "def resize_image(img_data):\n",
    "    resized_img_data = torch.nn.functional.interpolate(\n",
    "        torch.unsqueeze(torch.unsqueeze(torch.tensor(img_data), 0), 0),\n",
    "        size=(100, 100, 100),\n",
    "        mode='trilinear',\n",
    "        align_corners=False,\n",
    "    )\n",
    "    return resized_img_data.squeeze().numpy()"
   ]
  },
  {
   "cell_type": "code",
   "execution_count": 3,
   "id": "82b39fe4",
   "metadata": {
    "execution": {
     "iopub.execute_input": "2024-11-24T15:01:01.635330Z",
     "iopub.status.busy": "2024-11-24T15:01:01.635091Z",
     "iopub.status.idle": "2024-11-24T15:01:01.704106Z",
     "shell.execute_reply": "2024-11-24T15:01:01.703389Z"
    },
    "papermill": {
     "duration": 0.075249,
     "end_time": "2024-11-24T15:01:01.705757",
     "exception": false,
     "start_time": "2024-11-24T15:01:01.630508",
     "status": "completed"
    },
    "tags": []
   },
   "outputs": [],
   "source": [
    "csv_path = \"/kaggle/input/adni-1-5t-fastsurfer-quickseg/ADNI-1.5T-FastSurfer-QuickSeg/ADNI1_Screening_1.5T_1_29_2024.csv\"\n",
    "base = \"/kaggle/input/adni-1-5t-fastsurfer-quickseg/ADNI-1.5T-FastSurfer-QuickSeg/\"\n",
    "mri_images = os.listdir(os.path.join(base, \"AD\"))\n",
    "for i in os.listdir(os.path.join(base, \"CN\")):\n",
    "    mri_images.append(i)\n",
    "for i in os.listdir(os.path.join(base, \"MCI\")):\n",
    "    mri_images.append(i)\n",
    "    \n",
    "csv_data = pd.read_csv(csv_path)\n",
    "df = pd.DataFrame(csv_data)"
   ]
  },
  {
   "cell_type": "code",
   "execution_count": 4,
   "id": "3bfe398a",
   "metadata": {
    "execution": {
     "iopub.execute_input": "2024-11-24T15:01:01.715638Z",
     "iopub.status.busy": "2024-11-24T15:01:01.715387Z",
     "iopub.status.idle": "2024-11-24T15:01:01.848220Z",
     "shell.execute_reply": "2024-11-24T15:01:01.847642Z"
    },
    "papermill": {
     "duration": 0.139912,
     "end_time": "2024-11-24T15:01:01.849936",
     "exception": false,
     "start_time": "2024-11-24T15:01:01.710024",
     "status": "completed"
    },
    "tags": []
   },
   "outputs": [],
   "source": [
    "for index, row in df.iterrows():\n",
    "    file_name = row['Image Data ID'] + \".nii\"\n",
    "    if file_name not in mri_images:\n",
    "        df = df.drop(index)\n",
    "df.to_csv(\"filter_csv.csv\")\n",
    "csv_path = \"/kaggle/working/filter.csv\""
   ]
  },
  {
   "cell_type": "code",
   "execution_count": 5,
   "id": "d1d5be2d",
   "metadata": {
    "execution": {
     "iopub.execute_input": "2024-11-24T15:01:01.859001Z",
     "iopub.status.busy": "2024-11-24T15:01:01.858781Z",
     "iopub.status.idle": "2024-11-24T15:01:01.864687Z",
     "shell.execute_reply": "2024-11-24T15:01:01.863842Z"
    },
    "papermill": {
     "duration": 0.012253,
     "end_time": "2024-11-24T15:01:01.866346",
     "exception": false,
     "start_time": "2024-11-24T15:01:01.854093",
     "status": "completed"
    },
    "tags": []
   },
   "outputs": [
    {
     "data": {
      "text/plain": [
       "(982, 982)"
      ]
     },
     "execution_count": 5,
     "metadata": {},
     "output_type": "execute_result"
    }
   ],
   "source": [
    "len(df), len(mri_images)"
   ]
  },
  {
   "cell_type": "code",
   "execution_count": 6,
   "id": "4ec24760",
   "metadata": {
    "execution": {
     "iopub.execute_input": "2024-11-24T15:01:01.875927Z",
     "iopub.status.busy": "2024-11-24T15:01:01.875251Z",
     "iopub.status.idle": "2024-11-24T15:01:01.893754Z",
     "shell.execute_reply": "2024-11-24T15:01:01.892922Z"
    },
    "papermill": {
     "duration": 0.025124,
     "end_time": "2024-11-24T15:01:01.895521",
     "exception": false,
     "start_time": "2024-11-24T15:01:01.870397",
     "status": "completed"
    },
    "tags": []
   },
   "outputs": [
    {
     "data": {
      "text/html": [
       "<div>\n",
       "<style scoped>\n",
       "    .dataframe tbody tr th:only-of-type {\n",
       "        vertical-align: middle;\n",
       "    }\n",
       "\n",
       "    .dataframe tbody tr th {\n",
       "        vertical-align: top;\n",
       "    }\n",
       "\n",
       "    .dataframe thead th {\n",
       "        text-align: right;\n",
       "    }\n",
       "</style>\n",
       "<table border=\"1\" class=\"dataframe\">\n",
       "  <thead>\n",
       "    <tr style=\"text-align: right;\">\n",
       "      <th></th>\n",
       "      <th>Image Data ID</th>\n",
       "      <th>Subject</th>\n",
       "      <th>Group</th>\n",
       "      <th>Sex</th>\n",
       "      <th>Age</th>\n",
       "      <th>Visit</th>\n",
       "      <th>Modality</th>\n",
       "      <th>Description</th>\n",
       "      <th>Type</th>\n",
       "      <th>Acq Date</th>\n",
       "      <th>Format</th>\n",
       "      <th>Downloaded</th>\n",
       "    </tr>\n",
       "  </thead>\n",
       "  <tbody>\n",
       "    <tr>\n",
       "      <th>0</th>\n",
       "      <td>I62666</td>\n",
       "      <td>013_S_1275</td>\n",
       "      <td>MCI</td>\n",
       "      <td>F</td>\n",
       "      <td>79</td>\n",
       "      <td>sc</td>\n",
       "      <td>MRI</td>\n",
       "      <td>MPR; GradWarp; B1 Correction; N3; Scaled</td>\n",
       "      <td>Processed</td>\n",
       "      <td>2/22/2007</td>\n",
       "      <td>NiFTI</td>\n",
       "      <td>1/29/2024</td>\n",
       "    </tr>\n",
       "    <tr>\n",
       "      <th>1</th>\n",
       "      <td>I119268</td>\n",
       "      <td>121_S_1322</td>\n",
       "      <td>MCI</td>\n",
       "      <td>F</td>\n",
       "      <td>72</td>\n",
       "      <td>sc</td>\n",
       "      <td>MRI</td>\n",
       "      <td>MPR; ; N3; Scaled_2</td>\n",
       "      <td>Processed</td>\n",
       "      <td>3/02/2007</td>\n",
       "      <td>NiFTI</td>\n",
       "      <td>1/29/2024</td>\n",
       "    </tr>\n",
       "    <tr>\n",
       "      <th>2</th>\n",
       "      <td>I59697</td>\n",
       "      <td>116_S_0649</td>\n",
       "      <td>MCI</td>\n",
       "      <td>M</td>\n",
       "      <td>87</td>\n",
       "      <td>sc</td>\n",
       "      <td>MRI</td>\n",
       "      <td>MPR; GradWarp; N3; Scaled</td>\n",
       "      <td>Processed</td>\n",
       "      <td>7/24/2006</td>\n",
       "      <td>NiFTI</td>\n",
       "      <td>1/29/2024</td>\n",
       "    </tr>\n",
       "    <tr>\n",
       "      <th>3</th>\n",
       "      <td>I68581</td>\n",
       "      <td>099_S_0880</td>\n",
       "      <td>MCI</td>\n",
       "      <td>M</td>\n",
       "      <td>84</td>\n",
       "      <td>sc</td>\n",
       "      <td>MRI</td>\n",
       "      <td>MPR; GradWarp; B1 Correction; N3; Scaled</td>\n",
       "      <td>Processed</td>\n",
       "      <td>10/05/2006</td>\n",
       "      <td>NiFTI</td>\n",
       "      <td>1/29/2024</td>\n",
       "    </tr>\n",
       "    <tr>\n",
       "      <th>4</th>\n",
       "      <td>I60760</td>\n",
       "      <td>029_S_1318</td>\n",
       "      <td>MCI</td>\n",
       "      <td>F</td>\n",
       "      <td>83</td>\n",
       "      <td>sc</td>\n",
       "      <td>MRI</td>\n",
       "      <td>MPR-R; GradWarp; B1 Correction; N3; Scaled</td>\n",
       "      <td>Processed</td>\n",
       "      <td>2/17/2007</td>\n",
       "      <td>NiFTI</td>\n",
       "      <td>1/29/2024</td>\n",
       "    </tr>\n",
       "    <tr>\n",
       "      <th>5</th>\n",
       "      <td>I62656</td>\n",
       "      <td>013_S_1186</td>\n",
       "      <td>MCI</td>\n",
       "      <td>M</td>\n",
       "      <td>83</td>\n",
       "      <td>sc</td>\n",
       "      <td>MRI</td>\n",
       "      <td>MPR; GradWarp; B1 Correction; N3; Scaled</td>\n",
       "      <td>Processed</td>\n",
       "      <td>1/29/2007</td>\n",
       "      <td>NiFTI</td>\n",
       "      <td>1/29/2024</td>\n",
       "    </tr>\n",
       "    <tr>\n",
       "      <th>6</th>\n",
       "      <td>I119369</td>\n",
       "      <td>128_S_0188</td>\n",
       "      <td>MCI</td>\n",
       "      <td>M</td>\n",
       "      <td>86</td>\n",
       "      <td>sc</td>\n",
       "      <td>MRI</td>\n",
       "      <td>MPR-R; GradWarp; N3; Scaled_2</td>\n",
       "      <td>Processed</td>\n",
       "      <td>2/06/2006</td>\n",
       "      <td>NiFTI</td>\n",
       "      <td>1/29/2024</td>\n",
       "    </tr>\n",
       "    <tr>\n",
       "      <th>7</th>\n",
       "      <td>I31509</td>\n",
       "      <td>023_S_0855</td>\n",
       "      <td>MCI</td>\n",
       "      <td>M</td>\n",
       "      <td>76</td>\n",
       "      <td>sc</td>\n",
       "      <td>MRI</td>\n",
       "      <td>MPR; GradWarp; B1 Correction; N3; Scaled</td>\n",
       "      <td>Processed</td>\n",
       "      <td>9/05/2006</td>\n",
       "      <td>NiFTI</td>\n",
       "      <td>1/29/2024</td>\n",
       "    </tr>\n",
       "    <tr>\n",
       "      <th>8</th>\n",
       "      <td>I63135</td>\n",
       "      <td>073_S_1357</td>\n",
       "      <td>MCI</td>\n",
       "      <td>M</td>\n",
       "      <td>71</td>\n",
       "      <td>sc</td>\n",
       "      <td>MRI</td>\n",
       "      <td>MPR; GradWarp; B1 Correction; N3; Scaled</td>\n",
       "      <td>Processed</td>\n",
       "      <td>4/09/2007</td>\n",
       "      <td>NiFTI</td>\n",
       "      <td>1/29/2024</td>\n",
       "    </tr>\n",
       "    <tr>\n",
       "      <th>9</th>\n",
       "      <td>I39152</td>\n",
       "      <td>130_S_0783</td>\n",
       "      <td>MCI</td>\n",
       "      <td>F</td>\n",
       "      <td>79</td>\n",
       "      <td>sc</td>\n",
       "      <td>MRI</td>\n",
       "      <td>MPR; GradWarp; B1 Correction; N3; Scaled</td>\n",
       "      <td>Processed</td>\n",
       "      <td>8/17/2006</td>\n",
       "      <td>NiFTI</td>\n",
       "      <td>1/29/2024</td>\n",
       "    </tr>\n",
       "    <tr>\n",
       "      <th>10</th>\n",
       "      <td>I118769</td>\n",
       "      <td>018_S_0406</td>\n",
       "      <td>MCI</td>\n",
       "      <td>M</td>\n",
       "      <td>78</td>\n",
       "      <td>sc</td>\n",
       "      <td>MRI</td>\n",
       "      <td>MPR; ; N3; Scaled_2</td>\n",
       "      <td>Processed</td>\n",
       "      <td>4/20/2006</td>\n",
       "      <td>NiFTI</td>\n",
       "      <td>1/29/2024</td>\n",
       "    </tr>\n",
       "    <tr>\n",
       "      <th>11</th>\n",
       "      <td>I69733</td>\n",
       "      <td>129_S_1246</td>\n",
       "      <td>MCI</td>\n",
       "      <td>M</td>\n",
       "      <td>72</td>\n",
       "      <td>sc</td>\n",
       "      <td>MRI</td>\n",
       "      <td>MPR; GradWarp; N3; Scaled</td>\n",
       "      <td>Processed</td>\n",
       "      <td>2/06/2007</td>\n",
       "      <td>NiFTI</td>\n",
       "      <td>1/29/2024</td>\n",
       "    </tr>\n",
       "    <tr>\n",
       "      <th>12</th>\n",
       "      <td>I48851</td>\n",
       "      <td>023_S_1104</td>\n",
       "      <td>MCI</td>\n",
       "      <td>F</td>\n",
       "      <td>65</td>\n",
       "      <td>sc</td>\n",
       "      <td>MRI</td>\n",
       "      <td>MPR-R; GradWarp; B1 Correction; N3; Scaled</td>\n",
       "      <td>Processed</td>\n",
       "      <td>11/15/2006</td>\n",
       "      <td>NiFTI</td>\n",
       "      <td>1/29/2024</td>\n",
       "    </tr>\n",
       "    <tr>\n",
       "      <th>13</th>\n",
       "      <td>I119534</td>\n",
       "      <td>133_S_0727</td>\n",
       "      <td>MCI</td>\n",
       "      <td>F</td>\n",
       "      <td>69</td>\n",
       "      <td>sc</td>\n",
       "      <td>MRI</td>\n",
       "      <td>MPR-R; GradWarp; B1 Correction; N3; Scaled_2</td>\n",
       "      <td>Processed</td>\n",
       "      <td>9/07/2006</td>\n",
       "      <td>NiFTI</td>\n",
       "      <td>1/29/2024</td>\n",
       "    </tr>\n",
       "    <tr>\n",
       "      <th>14</th>\n",
       "      <td>I75485</td>\n",
       "      <td>073_S_0909</td>\n",
       "      <td>MCI</td>\n",
       "      <td>F</td>\n",
       "      <td>69</td>\n",
       "      <td>sc</td>\n",
       "      <td>MRI</td>\n",
       "      <td>MPR; GradWarp; B1 Correction; N3; Scaled</td>\n",
       "      <td>Processed</td>\n",
       "      <td>10/02/2006</td>\n",
       "      <td>NiFTI</td>\n",
       "      <td>1/29/2024</td>\n",
       "    </tr>\n",
       "    <tr>\n",
       "      <th>15</th>\n",
       "      <td>I49757</td>\n",
       "      <td>114_S_1103</td>\n",
       "      <td>MCI</td>\n",
       "      <td>M</td>\n",
       "      <td>83</td>\n",
       "      <td>sc</td>\n",
       "      <td>MRI</td>\n",
       "      <td>MPR; GradWarp; B1 Correction; N3; Scaled</td>\n",
       "      <td>Processed</td>\n",
       "      <td>11/29/2006</td>\n",
       "      <td>NiFTI</td>\n",
       "      <td>1/29/2024</td>\n",
       "    </tr>\n",
       "    <tr>\n",
       "      <th>16</th>\n",
       "      <td>I118975</td>\n",
       "      <td>023_S_0331</td>\n",
       "      <td>MCI</td>\n",
       "      <td>F</td>\n",
       "      <td>65</td>\n",
       "      <td>sc</td>\n",
       "      <td>MRI</td>\n",
       "      <td>MPR; GradWarp; B1 Correction; N3; Scaled_2</td>\n",
       "      <td>Processed</td>\n",
       "      <td>3/23/2006</td>\n",
       "      <td>NiFTI</td>\n",
       "      <td>1/29/2024</td>\n",
       "    </tr>\n",
       "    <tr>\n",
       "      <th>17</th>\n",
       "      <td>I80161</td>\n",
       "      <td>041_S_1411</td>\n",
       "      <td>MCI</td>\n",
       "      <td>M</td>\n",
       "      <td>74</td>\n",
       "      <td>sc</td>\n",
       "      <td>MRI</td>\n",
       "      <td>MPR; GradWarp; B1 Correction; N3; Scaled</td>\n",
       "      <td>Processed</td>\n",
       "      <td>7/16/2007</td>\n",
       "      <td>NiFTI</td>\n",
       "      <td>1/29/2024</td>\n",
       "    </tr>\n",
       "    <tr>\n",
       "      <th>18</th>\n",
       "      <td>I40037</td>\n",
       "      <td>041_S_0598</td>\n",
       "      <td>MCI</td>\n",
       "      <td>M</td>\n",
       "      <td>72</td>\n",
       "      <td>sc</td>\n",
       "      <td>MRI</td>\n",
       "      <td>MPR; GradWarp; B1 Correction; N3; Scaled</td>\n",
       "      <td>Processed</td>\n",
       "      <td>6/16/2006</td>\n",
       "      <td>NiFTI</td>\n",
       "      <td>1/29/2024</td>\n",
       "    </tr>\n",
       "    <tr>\n",
       "      <th>19</th>\n",
       "      <td>I119071</td>\n",
       "      <td>027_S_0179</td>\n",
       "      <td>MCI</td>\n",
       "      <td>M</td>\n",
       "      <td>81</td>\n",
       "      <td>sc</td>\n",
       "      <td>MRI</td>\n",
       "      <td>MPR-R; GradWarp; B1 Correction; N3; Scaled_2</td>\n",
       "      <td>Processed</td>\n",
       "      <td>2/24/2006</td>\n",
       "      <td>NiFTI</td>\n",
       "      <td>1/29/2024</td>\n",
       "    </tr>\n",
       "  </tbody>\n",
       "</table>\n",
       "</div>"
      ],
      "text/plain": [
       "   Image Data ID     Subject Group Sex  Age Visit Modality  \\\n",
       "0         I62666  013_S_1275   MCI   F   79    sc      MRI   \n",
       "1        I119268  121_S_1322   MCI   F   72    sc      MRI   \n",
       "2         I59697  116_S_0649   MCI   M   87    sc      MRI   \n",
       "3         I68581  099_S_0880   MCI   M   84    sc      MRI   \n",
       "4         I60760  029_S_1318   MCI   F   83    sc      MRI   \n",
       "5         I62656  013_S_1186   MCI   M   83    sc      MRI   \n",
       "6        I119369  128_S_0188   MCI   M   86    sc      MRI   \n",
       "7         I31509  023_S_0855   MCI   M   76    sc      MRI   \n",
       "8         I63135  073_S_1357   MCI   M   71    sc      MRI   \n",
       "9         I39152  130_S_0783   MCI   F   79    sc      MRI   \n",
       "10       I118769  018_S_0406   MCI   M   78    sc      MRI   \n",
       "11        I69733  129_S_1246   MCI   M   72    sc      MRI   \n",
       "12        I48851  023_S_1104   MCI   F   65    sc      MRI   \n",
       "13       I119534  133_S_0727   MCI   F   69    sc      MRI   \n",
       "14        I75485  073_S_0909   MCI   F   69    sc      MRI   \n",
       "15        I49757  114_S_1103   MCI   M   83    sc      MRI   \n",
       "16       I118975  023_S_0331   MCI   F   65    sc      MRI   \n",
       "17        I80161  041_S_1411   MCI   M   74    sc      MRI   \n",
       "18        I40037  041_S_0598   MCI   M   72    sc      MRI   \n",
       "19       I119071  027_S_0179   MCI   M   81    sc      MRI   \n",
       "\n",
       "                                     Description       Type    Acq Date  \\\n",
       "0       MPR; GradWarp; B1 Correction; N3; Scaled  Processed   2/22/2007   \n",
       "1                            MPR; ; N3; Scaled_2  Processed   3/02/2007   \n",
       "2                      MPR; GradWarp; N3; Scaled  Processed   7/24/2006   \n",
       "3       MPR; GradWarp; B1 Correction; N3; Scaled  Processed  10/05/2006   \n",
       "4     MPR-R; GradWarp; B1 Correction; N3; Scaled  Processed   2/17/2007   \n",
       "5       MPR; GradWarp; B1 Correction; N3; Scaled  Processed   1/29/2007   \n",
       "6                  MPR-R; GradWarp; N3; Scaled_2  Processed   2/06/2006   \n",
       "7       MPR; GradWarp; B1 Correction; N3; Scaled  Processed   9/05/2006   \n",
       "8       MPR; GradWarp; B1 Correction; N3; Scaled  Processed   4/09/2007   \n",
       "9       MPR; GradWarp; B1 Correction; N3; Scaled  Processed   8/17/2006   \n",
       "10                           MPR; ; N3; Scaled_2  Processed   4/20/2006   \n",
       "11                     MPR; GradWarp; N3; Scaled  Processed   2/06/2007   \n",
       "12    MPR-R; GradWarp; B1 Correction; N3; Scaled  Processed  11/15/2006   \n",
       "13  MPR-R; GradWarp; B1 Correction; N3; Scaled_2  Processed   9/07/2006   \n",
       "14      MPR; GradWarp; B1 Correction; N3; Scaled  Processed  10/02/2006   \n",
       "15      MPR; GradWarp; B1 Correction; N3; Scaled  Processed  11/29/2006   \n",
       "16    MPR; GradWarp; B1 Correction; N3; Scaled_2  Processed   3/23/2006   \n",
       "17      MPR; GradWarp; B1 Correction; N3; Scaled  Processed   7/16/2007   \n",
       "18      MPR; GradWarp; B1 Correction; N3; Scaled  Processed   6/16/2006   \n",
       "19  MPR-R; GradWarp; B1 Correction; N3; Scaled_2  Processed   2/24/2006   \n",
       "\n",
       "   Format Downloaded  \n",
       "0   NiFTI  1/29/2024  \n",
       "1   NiFTI  1/29/2024  \n",
       "2   NiFTI  1/29/2024  \n",
       "3   NiFTI  1/29/2024  \n",
       "4   NiFTI  1/29/2024  \n",
       "5   NiFTI  1/29/2024  \n",
       "6   NiFTI  1/29/2024  \n",
       "7   NiFTI  1/29/2024  \n",
       "8   NiFTI  1/29/2024  \n",
       "9   NiFTI  1/29/2024  \n",
       "10  NiFTI  1/29/2024  \n",
       "11  NiFTI  1/29/2024  \n",
       "12  NiFTI  1/29/2024  \n",
       "13  NiFTI  1/29/2024  \n",
       "14  NiFTI  1/29/2024  \n",
       "15  NiFTI  1/29/2024  \n",
       "16  NiFTI  1/29/2024  \n",
       "17  NiFTI  1/29/2024  \n",
       "18  NiFTI  1/29/2024  \n",
       "19  NiFTI  1/29/2024  "
      ]
     },
     "execution_count": 6,
     "metadata": {},
     "output_type": "execute_result"
    }
   ],
   "source": [
    "df.head(20)"
   ]
  },
  {
   "cell_type": "markdown",
   "id": "9c09a3f2",
   "metadata": {
    "papermill": {
     "duration": 0.004537,
     "end_time": "2024-11-24T15:01:01.904743",
     "exception": false,
     "start_time": "2024-11-24T15:01:01.900206",
     "status": "completed"
    },
    "tags": []
   },
   "source": [
    "# Defining MobileNetV2 architecture"
   ]
  },
  {
   "cell_type": "code",
   "execution_count": 7,
   "id": "820b367b",
   "metadata": {
    "execution": {
     "iopub.execute_input": "2024-11-24T15:01:01.914898Z",
     "iopub.status.busy": "2024-11-24T15:01:01.914409Z",
     "iopub.status.idle": "2024-11-24T15:01:08.066284Z",
     "shell.execute_reply": "2024-11-24T15:01:08.065002Z"
    },
    "papermill": {
     "duration": 6.159422,
     "end_time": "2024-11-24T15:01:08.068530",
     "exception": false,
     "start_time": "2024-11-24T15:01:01.909108",
     "status": "completed"
    },
    "tags": []
   },
   "outputs": [
    {
     "name": "stdout",
     "output_type": "stream",
     "text": [
      "torch.Size([8, 3])\n"
     ]
    }
   ],
   "source": [
    "import torch\n",
    "import torch.nn as nn\n",
    "import torch.nn.functional as F\n",
    "\n",
    "# Inverted Residual Block for 3D MobileNetV2\n",
    "class InvertedResidual(nn.Module):\n",
    "    def __init__(self, in_channels, out_channels, stride, expand_ratio):\n",
    "        super(InvertedResidual, self).__init__()\n",
    "        self.stride = stride\n",
    "        self.use_res_connect = self.stride == 1 and in_channels == out_channels\n",
    "        \n",
    "        # Expanding the input channels by the expansion ratio\n",
    "        hidden_channels = int(in_channels * expand_ratio)\n",
    "        \n",
    "        layers = []\n",
    "        \n",
    "        # 1x1x1 Convolution for expanding the channels\n",
    "        layers.append(nn.Conv3d(in_channels, hidden_channels, kernel_size=1, stride=1, padding=0, bias=False))\n",
    "        layers.append(nn.BatchNorm3d(hidden_channels))\n",
    "        layers.append(nn.ReLU6(inplace=True))\n",
    "        \n",
    "        # 3x3x3 Depthwise Separable Convolution (depthwise)\n",
    "        layers.append(nn.Conv3d(hidden_channels, hidden_channels, kernel_size=3, stride=stride, padding=1, groups=hidden_channels, bias=False))\n",
    "        layers.append(nn.BatchNorm3d(hidden_channels))\n",
    "        layers.append(nn.ReLU6(inplace=True))\n",
    "        \n",
    "        # 1x1x1 Convolution for projecting back to output channels\n",
    "        layers.append(nn.Conv3d(hidden_channels, out_channels, kernel_size=1, stride=1, padding=0, bias=False))\n",
    "        layers.append(nn.BatchNorm3d(out_channels))\n",
    "        \n",
    "        self.block = nn.Sequential(*layers)\n",
    "    \n",
    "    def forward(self, x):\n",
    "        out = self.block(x)\n",
    "        if self.use_res_connect:\n",
    "            return out + x\n",
    "        else:\n",
    "            return out\n",
    "\n",
    "# 3D MobileNetV2 Model\n",
    "class MobileNetV2(nn.Module):\n",
    "    def __init__(self, num_classes=1000):\n",
    "        super(MobileNetV2, self).__init__()\n",
    "        \n",
    "        # Initial Conv Layer for 3D inputs\n",
    "        self.conv1 = nn.Conv3d(1, 32, kernel_size=3, stride=2, padding=1, bias=False)\n",
    "        self.bn1 = nn.BatchNorm3d(32)\n",
    "        self.relu = nn.ReLU6(inplace=True)\n",
    "        \n",
    "        # Defining the layers in the network\n",
    "        self.layers = self._make_layers()\n",
    "        \n",
    "        # Final classifier layer\n",
    "        self.conv2 = nn.Conv3d(320, num_classes, kernel_size=1, stride=1, padding=0)\n",
    "    \n",
    "    def _make_layers(self):\n",
    "        # MobileNetV2 configuration for inverted residual blocks\n",
    "        config = [\n",
    "            # in_channels, out_channels, stride, expand_ratio\n",
    "            (32, 16, 1, 1),\n",
    "            (16, 24, 2, 6),\n",
    "            (24, 24, 1, 6),\n",
    "            (24, 32, 2, 6),\n",
    "            (32, 32, 1, 6),\n",
    "            (32, 64, 2, 6),\n",
    "            (64, 64, 1, 6),\n",
    "            (64, 96, 1, 6),\n",
    "            (96, 160, 2, 6),\n",
    "            (160, 160, 1, 6),\n",
    "            (160, 320, 1, 6),\n",
    "        ]\n",
    "        \n",
    "        layers = []\n",
    "        in_channels = 32\n",
    "        \n",
    "        # Create all layers based on the configuration\n",
    "        for t, c, s, e in config:\n",
    "            layers.append(InvertedResidual(in_channels, c, s, e))\n",
    "            in_channels = c\n",
    "        \n",
    "        return nn.Sequential(*layers)\n",
    "    \n",
    "    def forward(self, x):\n",
    "        x = self.conv1(x)\n",
    "        x = self.bn1(x)\n",
    "        x = self.relu(x)\n",
    "        \n",
    "        x = self.layers(x)\n",
    "        \n",
    "        x = self.conv2(x)\n",
    "        x = F.adaptive_avg_pool3d(x, (1, 1, 1))\n",
    "        x = x.view(x.size(0), -1)\n",
    "        \n",
    "        return x\n",
    "\n",
    "# Instantiate the model\n",
    "def mobilenet_v2_3d(num_classes=1000):\n",
    "    return MobileNetV2(num_classes)\n",
    "\n",
    "# Example usage\n",
    "model = mobilenet_v2_3d(num_classes=3)  # For 3-class classification\n",
    "\n",
    "# Sample input: batch of 8 3D images (1 channel, 100x100x100 depth)\n",
    "input_tensor = torch.randn(8, 1, 100, 100, 100)\n",
    "output = model(input_tensor)\n",
    "print(output.shape)  # Expected output: torch.Size([8, 3])\n"
   ]
  },
  {
   "cell_type": "code",
   "execution_count": 8,
   "id": "bb22be05",
   "metadata": {
    "execution": {
     "iopub.execute_input": "2024-11-24T15:01:08.081039Z",
     "iopub.status.busy": "2024-11-24T15:01:08.080188Z",
     "iopub.status.idle": "2024-11-24T15:01:08.088749Z",
     "shell.execute_reply": "2024-11-24T15:01:08.087886Z"
    },
    "papermill": {
     "duration": 0.015586,
     "end_time": "2024-11-24T15:01:08.090354",
     "exception": false,
     "start_time": "2024-11-24T15:01:08.074768",
     "status": "completed"
    },
    "tags": []
   },
   "outputs": [],
   "source": [
    "class MriDataset():\n",
    "    def __init__(self, csv_path,transform=None):\n",
    "        self.data = pd.read_csv(csv_path)\n",
    "        self.transform = transform\n",
    "        self.le = LabelEncoder()  # Add this line\n",
    "        self.encoded_classes = self.le.fit_transform(self.data[\"Group\"].values)  # Add this line\n",
    "\n",
    "    \n",
    "    def __len__(self):\n",
    "        return len(self.data)\n",
    "\n",
    "    \n",
    "    def _load_image(self, img_id, label):\n",
    "        base = \"/kaggle/input/adni-1-5t-fastsurfer-quickseg/ADNI-1.5T-FastSurfer-QuickSeg\"\n",
    "        img_id = img_id + \".nii\"\n",
    "        subject_dir = os.path.join(base, label, img_id, \"mri\")\n",
    "        \n",
    "        aseg_image = nibabel.load(os.path.join(subject_dir, \"aparc.DKTatlas+aseg.deep.mgz\"))\n",
    "        brain_image = nibabel.load(os.path.join(subject_dir, \"aparc.DKTatlas+aseg.deep.mgz\"))\n",
    "        \n",
    "        image = apply_mask(aseg_image, brain_image) #applying the selected labels\n",
    "        image = image.get_fdata()\n",
    "        \n",
    "        image_resized = resize_image(image) \n",
    "        image_resized = np.expand_dims(image_resized, axis=0)\n",
    "        image_resized = torch.tensor(image_resized, dtype=torch.float)\n",
    "        \n",
    "        return image_resized\n",
    "        \n",
    "        \n",
    "    def __getitem__(self, idx):\n",
    "        img_id = self.data.iloc[idx, 1]\n",
    "        label = self.data.iloc[idx, 3]\n",
    "        \n",
    "        img = self._load_image(img_id, label) #loading the image\n",
    "        one_hot_label = np.eye(len(self.le.classes_))[self.encoded_classes[idx]]\n",
    "        \n",
    "        #img = np.transpose(img, (2, 0, 1))    # Transpose the image to match PyTorch's tensor format (C x H x W)\n",
    "        if self.transform:\n",
    "            img = self.transform(img)\n",
    "        return img, one_hot_label"
   ]
  },
  {
   "cell_type": "markdown",
   "id": "bd1d0d25",
   "metadata": {
    "papermill": {
     "duration": 0.004235,
     "end_time": "2024-11-24T15:01:08.099140",
     "exception": false,
     "start_time": "2024-11-24T15:01:08.094905",
     "status": "completed"
    },
    "tags": []
   },
   "source": [
    "# Model and train dataset"
   ]
  },
  {
   "cell_type": "code",
   "execution_count": 9,
   "id": "70317c96",
   "metadata": {
    "execution": {
     "iopub.execute_input": "2024-11-24T15:01:08.109699Z",
     "iopub.status.busy": "2024-11-24T15:01:08.109007Z",
     "iopub.status.idle": "2024-11-24T15:01:08.123044Z",
     "shell.execute_reply": "2024-11-24T15:01:08.122402Z"
    },
    "papermill": {
     "duration": 0.021139,
     "end_time": "2024-11-24T15:01:08.124777",
     "exception": false,
     "start_time": "2024-11-24T15:01:08.103638",
     "status": "completed"
    },
    "tags": []
   },
   "outputs": [],
   "source": [
    "# Define transformations\n",
    "transform = transforms.Compose([\n",
    "#     transforms.ToTensor(),\n",
    "])\n",
    "\n",
    "dataset = MriDataset(csv_path=\"/kaggle/working/filter_csv.csv\", transform=transform)\n",
    "train_size = int(0.7 * len(dataset))\n",
    "validation_size = int(0.15 * len(dataset))\n",
    "test_size = len(dataset)-(train_size + validation_size)\n",
    "\n",
    "train_dataset, validation_dataset, test_dataset = random_split(dataset, [train_size, validation_size, test_size])"
   ]
  },
  {
   "cell_type": "code",
   "execution_count": 10,
   "id": "01dedc6a",
   "metadata": {
    "execution": {
     "iopub.execute_input": "2024-11-24T15:01:08.135372Z",
     "iopub.status.busy": "2024-11-24T15:01:08.135143Z",
     "iopub.status.idle": "2024-11-24T15:01:08.140198Z",
     "shell.execute_reply": "2024-11-24T15:01:08.139381Z"
    },
    "papermill": {
     "duration": 0.01267,
     "end_time": "2024-11-24T15:01:08.141811",
     "exception": false,
     "start_time": "2024-11-24T15:01:08.129141",
     "status": "completed"
    },
    "tags": []
   },
   "outputs": [
    {
     "data": {
      "text/plain": [
       "(687, 147, 148)"
      ]
     },
     "execution_count": 10,
     "metadata": {},
     "output_type": "execute_result"
    }
   ],
   "source": [
    "train_size, validation_size, test_size"
   ]
  },
  {
   "cell_type": "code",
   "execution_count": 11,
   "id": "c504dffa",
   "metadata": {
    "execution": {
     "iopub.execute_input": "2024-11-24T15:01:08.151987Z",
     "iopub.status.busy": "2024-11-24T15:01:08.151744Z",
     "iopub.status.idle": "2024-11-24T15:01:08.173667Z",
     "shell.execute_reply": "2024-11-24T15:01:08.173055Z"
    },
    "papermill": {
     "duration": 0.02869,
     "end_time": "2024-11-24T15:01:08.175272",
     "exception": false,
     "start_time": "2024-11-24T15:01:08.146582",
     "status": "completed"
    },
    "tags": []
   },
   "outputs": [],
   "source": [
    "# Load data\n",
    "train_loader = DataLoader(train_dataset, batch_size=20, shuffle=True, pin_memory = True)\n",
    "validation_loader = DataLoader(validation_dataset, batch_size = 20, shuffle=True, pin_memory = True)\n",
    "test_loader = DataLoader(test_dataset, batch_size = 20, shuffle=True, pin_memory = True)\n",
    "\n",
    "\n",
    "#model\n",
    "model = mobilenet_v2_3d(num_classes=3)\n",
    "# model = models.resnet18(pretrained = True)\n",
    "\n",
    "# model.conv1 = nn.Conv2d(150, 64, kernel_size=7, stride=2, padding=3, bias=False)\n",
    "# model.fc = nn.Linear(512, 3)\n",
    "\n",
    "criterion = nn.CrossEntropyLoss()\n",
    "optimizer = optim.Adam(model.parameters(), lr=0.001)"
   ]
  },
  {
   "cell_type": "markdown",
   "id": "a6ec1947",
   "metadata": {
    "papermill": {
     "duration": 0.004615,
     "end_time": "2024-11-24T15:01:08.184361",
     "exception": false,
     "start_time": "2024-11-24T15:01:08.179746",
     "status": "completed"
    },
    "tags": []
   },
   "source": [
    "# Saving checkpoint after finishing each epoch"
   ]
  },
  {
   "cell_type": "code",
   "execution_count": 12,
   "id": "f7c811d5",
   "metadata": {
    "execution": {
     "iopub.execute_input": "2024-11-24T15:01:08.194524Z",
     "iopub.status.busy": "2024-11-24T15:01:08.193987Z",
     "iopub.status.idle": "2024-11-24T15:01:08.197771Z",
     "shell.execute_reply": "2024-11-24T15:01:08.196950Z"
    },
    "papermill": {
     "duration": 0.010674,
     "end_time": "2024-11-24T15:01:08.199402",
     "exception": false,
     "start_time": "2024-11-24T15:01:08.188728",
     "status": "completed"
    },
    "tags": []
   },
   "outputs": [],
   "source": [
    "checkpoint_dir = \"/kaggle/working/checkpoint\"\n",
    "os.makedirs(checkpoint_dir, exist_ok=True)"
   ]
  },
  {
   "cell_type": "markdown",
   "id": "e635903c",
   "metadata": {
    "papermill": {
     "duration": 0.004513,
     "end_time": "2024-11-24T15:01:08.208820",
     "exception": false,
     "start_time": "2024-11-24T15:01:08.204307",
     "status": "completed"
    },
    "tags": []
   },
   "source": [
    "# Loading saved checkpoints"
   ]
  },
  {
   "cell_type": "code",
   "execution_count": 13,
   "id": "3902f9f0",
   "metadata": {
    "execution": {
     "iopub.execute_input": "2024-11-24T15:01:08.220303Z",
     "iopub.status.busy": "2024-11-24T15:01:08.219316Z",
     "iopub.status.idle": "2024-11-24T15:01:08.223262Z",
     "shell.execute_reply": "2024-11-24T15:01:08.222555Z"
    },
    "papermill": {
     "duration": 0.012338,
     "end_time": "2024-11-24T15:01:08.225779",
     "exception": false,
     "start_time": "2024-11-24T15:01:08.213441",
     "status": "completed"
    },
    "tags": []
   },
   "outputs": [],
   "source": [
    "# path = \"/kaggle/input/checkpoint-1/model_epoch_10_batch_31.pt\"\n",
    "# checkpoint = torch.load(path)\n",
    "# model.load_state_dict(checkpoint['model_state_dict'])\n",
    "# optimizer.load_state_dict(checkpoint['optimizer_state_dict'])\n",
    "# check_epoch = checkpoint['epoch']\n",
    "# model.to(device)"
   ]
  },
  {
   "cell_type": "markdown",
   "id": "e56c542e",
   "metadata": {
    "papermill": {
     "duration": 0.00483,
     "end_time": "2024-11-24T15:01:08.236327",
     "exception": false,
     "start_time": "2024-11-24T15:01:08.231497",
     "status": "completed"
    },
    "tags": []
   },
   "source": [
    "# Training the model"
   ]
  },
  {
   "cell_type": "code",
   "execution_count": 14,
   "id": "78ffc63c",
   "metadata": {
    "execution": {
     "iopub.execute_input": "2024-11-24T15:01:08.247464Z",
     "iopub.status.busy": "2024-11-24T15:01:08.247171Z",
     "iopub.status.idle": "2024-11-24T17:36:08.200374Z",
     "shell.execute_reply": "2024-11-24T17:36:08.199472Z"
    },
    "papermill": {
     "duration": 9299.966875,
     "end_time": "2024-11-24T17:36:08.208025",
     "exception": false,
     "start_time": "2024-11-24T15:01:08.241150",
     "status": "completed"
    },
    "tags": []
   },
   "outputs": [
    {
     "name": "stdout",
     "output_type": "stream",
     "text": [
      "Epoch: 1/25, Loss: 1.1291, Accuracy: 40.2381\n",
      "Epoch: 2/25, Loss: 1.0094, Accuracy: 55.4762\n",
      "Epoch: 3/25, Loss: 1.0211, Accuracy: 64.7619\n",
      "Epoch: 4/25, Loss: 0.7831, Accuracy: 69.7619\n",
      "Epoch: 5/25, Loss: 1.0236, Accuracy: 76.9048\n",
      "Checkpoint saved to /kaggle/working/checkpoint/model_epoch_5_batch_21.pt\n",
      "Epoch: 6/25, Loss: 0.4983, Accuracy: 78.5714\n",
      "Epoch: 7/25, Loss: 0.5783, Accuracy: 84.5238\n",
      "Epoch: 8/25, Loss: 0.4184, Accuracy: 84.2857\n",
      "Epoch: 9/25, Loss: 0.4381, Accuracy: 84.2857\n",
      "Epoch: 10/25, Loss: 0.4797, Accuracy: 89.2857\n",
      "Checkpoint saved to /kaggle/working/checkpoint/model_epoch_10_batch_21.pt\n",
      "Epoch: 11/25, Loss: 0.3878, Accuracy: 82.8571\n",
      "Epoch: 12/25, Loss: 0.5274, Accuracy: 82.6190\n",
      "Epoch: 13/25, Loss: 0.2215, Accuracy: 86.9048\n",
      "Epoch: 14/25, Loss: 0.4390, Accuracy: 92.6190\n",
      "Epoch: 15/25, Loss: 0.4037, Accuracy: 88.5714\n",
      "Checkpoint saved to /kaggle/working/checkpoint/model_epoch_15_batch_21.pt\n",
      "Epoch: 16/25, Loss: 0.2720, Accuracy: 86.9048\n",
      "Epoch: 17/25, Loss: 0.3302, Accuracy: 90.2381\n",
      "Epoch: 18/25, Loss: 0.7440, Accuracy: 88.8095\n",
      "Epoch: 19/25, Loss: 0.1388, Accuracy: 90.0000\n",
      "Epoch: 20/25, Loss: 0.0771, Accuracy: 89.2857\n",
      "Checkpoint saved to /kaggle/working/checkpoint/model_epoch_20_batch_21.pt\n",
      "Epoch: 21/25, Loss: 0.0646, Accuracy: 93.3333\n",
      "Epoch: 22/25, Loss: 0.5666, Accuracy: 96.6667\n",
      "Epoch: 23/25, Loss: 0.6409, Accuracy: 91.4286\n",
      "Epoch: 24/25, Loss: 0.1783, Accuracy: 93.0952\n",
      "Epoch: 25/25, Loss: 0.0808, Accuracy: 93.3333\n",
      "Checkpoint saved to /kaggle/working/checkpoint/model_epoch_25_batch_21.pt\n"
     ]
    }
   ],
   "source": [
    "num_epochs = 25  # 25 Epochs\n",
    "loss_list = []\n",
    "accuracy_list = []\n",
    "\n",
    "for epoch in range(num_epochs):\n",
    "    torch.cuda.empty_cache()\n",
    "    \n",
    "    model.train()\n",
    "    total  = 0\n",
    "    correct_count = 0\n",
    "    for batch_idx, (data, target) in enumerate(train_loader):\n",
    "        model.to(device)\n",
    "        data, target = data.to(device, dtype=torch.float), target.clone().detach().to(device)\n",
    "        \n",
    "        # Forward pass\n",
    "        output = model(data)\n",
    "        loss = criterion(output, target)\n",
    "        \n",
    "        # Backward pass and optimization\n",
    "        optimizer.zero_grad()\n",
    "        loss.backward()\n",
    "        optimizer.step()\n",
    "        \n",
    "        output = output.cpu()\n",
    "        target = target.cpu()\n",
    "        \n",
    "        correct = (torch.argmax(output, dim=1) == torch.argmax(target, dim=1)).sum().item()\n",
    "        correct_count += correct\n",
    "        total += len(data)\n",
    "        if not (batch_idx < data.shape[0]): break \n",
    "    \n",
    "    # Printing log\n",
    "    accuracy = (correct_count / total) * 100\n",
    "    loss_list.append(loss.item())\n",
    "    accuracy_list.append(accuracy)\n",
    "    \n",
    "    print(f\"Epoch: {epoch+1}/{num_epochs}, Loss: {loss.item():.4f}, Accuracy: {accuracy:.4f}\")\n",
    "    \n",
    "    if (epoch + 1) % 5 == 0:\n",
    "        # Saving checkpoint\n",
    "        checkpoint_path = os.path.join(checkpoint_dir, f\"model_epoch_{epoch+1}_batch_{batch_idx+1}.pt\")\n",
    "        torch.save({\n",
    "                    'epoch': epoch + 1,\n",
    "                    'batch_idx': batch_idx + 1,\n",
    "                    'model_state_dict': model.state_dict(),\n",
    "                    'optimizer_state_dict': optimizer.state_dict(),\n",
    "                    'loss': loss.item(),\n",
    "                    }, checkpoint_path)\n",
    "        print(f\"Checkpoint saved to {checkpoint_path}\")\n",
    "    \n",
    "# Save final model\n",
    "torch.save(model.state_dict(), \"model_final.pt\")\n"
   ]
  },
  {
   "cell_type": "code",
   "execution_count": 15,
   "id": "2d38dcc0",
   "metadata": {
    "execution": {
     "iopub.execute_input": "2024-11-24T17:36:08.220860Z",
     "iopub.status.busy": "2024-11-24T17:36:08.220078Z",
     "iopub.status.idle": "2024-11-24T17:36:08.640456Z",
     "shell.execute_reply": "2024-11-24T17:36:08.639522Z"
    },
    "papermill": {
     "duration": 0.429211,
     "end_time": "2024-11-24T17:36:08.642873",
     "exception": false,
     "start_time": "2024-11-24T17:36:08.213662",
     "status": "completed"
    },
    "tags": []
   },
   "outputs": [
    {
     "data": {
      "text/plain": [
       "Text(0.5, 1.0, 'Training Accuracy')"
      ]
     },
     "execution_count": 15,
     "metadata": {},
     "output_type": "execute_result"
    },
    {
     "data": {
      "image/png": "[encoded data removed]",
      "text/plain": [
       "<Figure size 1200x600 with 2 Axes>"
      ]
     },
     "metadata": {},
     "output_type": "display_data"
    }
   ],
   "source": [
    "_, (loss_graph, accuracy_graph) = plt.subplots(1, 2, figsize=(12,6))\n",
    "\n",
    "loss_graph.plot(loss_list)\n",
    "loss_graph.set_xlabel(\"Epoch\")\n",
    "loss_graph.set_ylabel(\"Loss\")\n",
    "loss_graph.set_title(\"Training Loss\")\n",
    "\n",
    "accuracy_graph.plot(accuracy_list)\n",
    "accuracy_graph.set_xlabel(\"Epoch\")\n",
    "accuracy_graph.set_ylabel(\"Loss\")\n",
    "accuracy_graph.set_title(\"Training Accuracy\")"
   ]
  },
  {
   "cell_type": "markdown",
   "id": "2db57959",
   "metadata": {
    "papermill": {
     "duration": 0.006908,
     "end_time": "2024-11-24T17:36:08.656854",
     "exception": false,
     "start_time": "2024-11-24T17:36:08.649946",
     "status": "completed"
    },
    "tags": []
   },
   "source": [
    "# Validation Accuracy"
   ]
  },
  {
   "cell_type": "code",
   "execution_count": 16,
   "id": "292b3c5b",
   "metadata": {
    "execution": {
     "iopub.execute_input": "2024-11-24T17:36:08.672319Z",
     "iopub.status.busy": "2024-11-24T17:36:08.671992Z",
     "iopub.status.idle": "2024-11-24T17:38:19.030673Z",
     "shell.execute_reply": "2024-11-24T17:38:19.029782Z"
    },
    "papermill": {
     "duration": 130.374907,
     "end_time": "2024-11-24T17:38:19.038836",
     "exception": false,
     "start_time": "2024-11-24T17:36:08.663929",
     "status": "completed"
    },
    "tags": []
   },
   "outputs": [
    {
     "name": "stderr",
     "output_type": "stream",
     "text": [
      "/tmp/ipykernel_26/318942741.py:7: UserWarning: To copy construct from a tensor, it is recommended to use sourceTensor.clone().detach() or sourceTensor.clone().detach().requires_grad_(True), rather than torch.tensor(sourceTensor).\n",
      "  data, target = data.to(device, dtype = torch.float), torch.tensor(target).to(device)\n"
     ]
    },
    {
     "name": "stdout",
     "output_type": "stream",
     "text": [
      "Validation accuracy: 53.06%\n"
     ]
    }
   ],
   "source": [
    "model.eval()\n",
    "all_preds = []\n",
    "all_labels = []\n",
    "with torch.no_grad():\n",
    "    for data, target in validation_loader:\n",
    "        model = model.to(device)\n",
    "        data, target = data.to(device, dtype = torch.float), torch.tensor(target).to(device)\n",
    "        output = model(data)\n",
    "        output = output.cpu()\n",
    "        target = target.cpu()\n",
    "        \n",
    "        all_preds.extend(torch.argmax(output, dim = 1))\n",
    "        all_labels.extend(torch.argmax(target, dim=1))\n",
    "\n",
    "\n",
    "accuracy = accuracy_score(all_labels, all_preds)\n",
    "print(f\"Validation accuracy: {accuracy * 100:.2f}%\")"
   ]
  },
  {
   "cell_type": "markdown",
   "id": "c69ca6d0",
   "metadata": {
    "papermill": {
     "duration": 0.006126,
     "end_time": "2024-11-24T17:38:19.051829",
     "exception": false,
     "start_time": "2024-11-24T17:38:19.045703",
     "status": "completed"
    },
    "tags": []
   },
   "source": [
    "# Test Accuracy"
   ]
  },
  {
   "cell_type": "code",
   "execution_count": 17,
   "id": "ac156cd3",
   "metadata": {
    "execution": {
     "iopub.execute_input": "2024-11-24T17:38:19.065802Z",
     "iopub.status.busy": "2024-11-24T17:38:19.065474Z",
     "iopub.status.idle": "2024-11-24T17:40:29.197437Z",
     "shell.execute_reply": "2024-11-24T17:40:29.196299Z"
    },
    "papermill": {
     "duration": 130.147166,
     "end_time": "2024-11-24T17:40:29.205443",
     "exception": false,
     "start_time": "2024-11-24T17:38:19.058277",
     "status": "completed"
    },
    "tags": []
   },
   "outputs": [
    {
     "name": "stderr",
     "output_type": "stream",
     "text": [
      "/tmp/ipykernel_26/279744069.py:7: UserWarning: To copy construct from a tensor, it is recommended to use sourceTensor.clone().detach() or sourceTensor.clone().detach().requires_grad_(True), rather than torch.tensor(sourceTensor).\n",
      "  data, target = data.to(device, dtype = torch.float), torch.tensor(target).to(device)\n"
     ]
    },
    {
     "name": "stdout",
     "output_type": "stream",
     "text": [
      "Test accuracy: 53.06%\n"
     ]
    }
   ],
   "source": [
    "model.eval()\n",
    "test_preds = []\n",
    "test_labels = []\n",
    "with torch.no_grad():\n",
    "    for data, target in test_loader:\n",
    "        model = model.to(device)\n",
    "        data, target = data.to(device, dtype = torch.float), torch.tensor(target).to(device)\n",
    "        output = model(data)\n",
    "        output = output.cpu()\n",
    "        target = target.cpu()\n",
    "        \n",
    "        test_preds.extend(torch.argmax(output, dim = 1))\n",
    "        test_labels.extend(torch.argmax(target, dim=1))\n",
    "\n",
    "\n",
    "accuracy = accuracy_score(all_labels, all_preds)\n",
    "print(f\"Test accuracy: {accuracy * 100:.2f}%\")"
   ]
  }
 ],
 "metadata": {
  "kaggle": {
   "accelerator": "nvidiaTeslaT4",
   "dataSources": [
    {
     "datasetId": 4434378,
     "sourceId": 7614559,
     "sourceType": "datasetVersion"
    }
   ],
   "dockerImageVersionId": 30648,
   "isGpuEnabled": true,
   "isInternetEnabled": true,
   "language": "python",
   "sourceType": "notebook"
  },
  "kernelspec": {
   "display_name": "Python 3",
   "language": "python",
   "name": "python3"
  },
  "language_info": {
   "codemirror_mode": {
    "name": "ipython",
    "version": 3
   },
   "file_extension": ".py",
   "mimetype": "text/x-python",
   "name": "python",
   "nbconvert_exporter": "python",
   "pygments_lexer": "ipython3",
   "version": "3.10.13"
  },
  "papermill": {
   "default_parameters": {},
   "duration": 9588.838675,
   "end_time": "2024-11-24T17:40:32.077644",
   "environment_variables": {},
   "exception": null,
   "input_path": "__notebook__.ipynb",
   "output_path": "__notebook__.ipynb",
   "parameters": {},
   "start_time": "2024-11-24T15:00:43.238969",
   "version": "2.5.0"
  }
 },
 "nbformat": 4,
 "nbformat_minor": 5
}
