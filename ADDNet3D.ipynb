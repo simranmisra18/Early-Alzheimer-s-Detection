{
 "cells": [
  {
   "cell_type": "markdown",
   "metadata": {},
   "source": [
    "Import libraries"
   ]
  },
  {
   "cell_type": "code",
   "execution_count": 2,
   "metadata": {},
   "outputs": [],
   "source": [
    "import os\n",
    "import numpy as np\n",
    "from tensorflow.keras.utils import to_categorical\n",
    "import nibabel\n",
    "from sklearn.model_selection import train_test_split\n",
    "import tensorflow as tf\n",
    "import cv2\n",
    "from skimage.filters import unsharp_mask\n",
    "from sklearn.utils import shuffle\n",
    "from sklearn.utils.class_weight import compute_class_weight\n",
    "from skimage.transform import resize\n",
    "from dipy.align.imwarp import SymmetricDiffeomorphicRegistration\n",
    "from dipy.align.metrics import CCMetric\n",
    "from tensorflow.keras.models import Model\n",
    "from tensorflow.keras.layers import Input, Activation, Dense, Flatten\n",
    "from tensorflow.keras.layers import Conv3D, AveragePooling3D, MaxPooling3D\n",
    "from tensorflow.keras.layers import (Input, Activation, Dense, \n",
    "                                     Flatten, Conv3D, AveragePooling3D, \n",
    "                                     MaxPooling3D, add, multiply, BatchNormalization, \n",
    "                                     GlobalAveragePooling3D, GlobalMaxPooling3D, \n",
    "                                     Reshape, Concatenate, Lambda)\n",
    "from tensorflow.keras.regularizers import l2\n",
    "from tensorflow.keras.layers import add, multiply\n",
    "from tensorflow.keras.layers import BatchNormalization\n",
    "from tensorflow.keras.regularizers import l2\n",
    "from tensorflow.keras import backend as K\n",
    "from tensorflow.keras.layers import Input\n",
    "from tensorflow.keras.layers import Flatten\n",
    "from tensorflow.keras.layers import Dense\n",
    "from tensorflow.keras.optimizers import SGD"
   ]
  },
  {
   "cell_type": "markdown",
   "metadata": {},
   "source": [
    "Check for GPU"
   ]
  },
  {
   "cell_type": "code",
   "execution_count": 3,
   "metadata": {},
   "outputs": [],
   "source": [
    "gpus = tf.config.list_physical_devices('GPU')\n",
    "if gpus:\n",
    "    for gpu in gpus:\n",
    "        tf.config.experimental.set_memory_growth(gpu, True)\n",
    "    logical_gpus = tf.config.list_logical_devices('GPU')\n",
    "    print(len(gpus), \"Physical GPUs,\", len(logical_gpus), \"Logical GPUs\")"
   ]
  },
  {
   "cell_type": "markdown",
   "metadata": {},
   "source": [
    "Compatibility with Python 2 and 3"
   ]
  },
  {
   "cell_type": "code",
   "execution_count": 4,
   "metadata": {},
   "outputs": [],
   "source": [
    "from __future__ import absolute_import, division, print_function, unicode_literals\n",
    "import six\n",
    "from math import ceil"
   ]
  },
  {
   "cell_type": "markdown",
   "metadata": {},
   "source": [
    "ADD-Net 3D Model Builder"
   ]
  },
  {
   "cell_type": "code",
   "execution_count": 5,
   "metadata": {},
   "outputs": [
    {
     "data": {
      "text/html": [
       "<pre style=\"white-space:pre;overflow-x:auto;line-height:normal;font-family:Menlo,'DejaVu Sans Mono',consolas,'Courier New',monospace\"><span style=\"font-weight: bold\">Model: \"sequential\"</span>\n",
       "</pre>\n"
      ],
      "text/plain": [
       "\u001b[1mModel: \"sequential\"\u001b[0m\n"
      ]
     },
     "metadata": {},
     "output_type": "display_data"
    },
    {
     "data": {
      "text/html": [
       "<pre style=\"white-space:pre;overflow-x:auto;line-height:normal;font-family:Menlo,'DejaVu Sans Mono',consolas,'Courier New',monospace\">┏━━━━━━━━━━━━━━━━━━━━━━━━━━━━━━━━━┳━━━━━━━━━━━━━━━━━━━━━━━━┳━━━━━━━━━━━━━━━┓\n",
       "┃<span style=\"font-weight: bold\"> Layer (type)                    </span>┃<span style=\"font-weight: bold\"> Output Shape           </span>┃<span style=\"font-weight: bold\">       Param # </span>┃\n",
       "┡━━━━━━━━━━━━━━━━━━━━━━━━━━━━━━━━━╇━━━━━━━━━━━━━━━━━━━━━━━━╇━━━━━━━━━━━━━━━┩\n",
       "│ conv3d (<span style=\"color: #0087ff; text-decoration-color: #0087ff\">Conv3D</span>)                 │ (<span style=\"color: #00d7ff; text-decoration-color: #00d7ff\">None</span>, <span style=\"color: #00af00; text-decoration-color: #00af00\">94</span>, <span style=\"color: #00af00; text-decoration-color: #00af00\">94</span>, <span style=\"color: #00af00; text-decoration-color: #00af00\">94</span>, <span style=\"color: #00af00; text-decoration-color: #00af00\">16</span>) │         <span style=\"color: #00af00; text-decoration-color: #00af00\">5,504</span> │\n",
       "├─────────────────────────────────┼────────────────────────┼───────────────┤\n",
       "│ re_lu (<span style=\"color: #0087ff; text-decoration-color: #0087ff\">ReLU</span>)                    │ (<span style=\"color: #00d7ff; text-decoration-color: #00d7ff\">None</span>, <span style=\"color: #00af00; text-decoration-color: #00af00\">94</span>, <span style=\"color: #00af00; text-decoration-color: #00af00\">94</span>, <span style=\"color: #00af00; text-decoration-color: #00af00\">94</span>, <span style=\"color: #00af00; text-decoration-color: #00af00\">16</span>) │             <span style=\"color: #00af00; text-decoration-color: #00af00\">0</span> │\n",
       "├─────────────────────────────────┼────────────────────────┼───────────────┤\n",
       "│ average_pooling3d               │ (<span style=\"color: #00d7ff; text-decoration-color: #00d7ff\">None</span>, <span style=\"color: #00af00; text-decoration-color: #00af00\">93</span>, <span style=\"color: #00af00; text-decoration-color: #00af00\">93</span>, <span style=\"color: #00af00; text-decoration-color: #00af00\">93</span>, <span style=\"color: #00af00; text-decoration-color: #00af00\">16</span>) │             <span style=\"color: #00af00; text-decoration-color: #00af00\">0</span> │\n",
       "│ (<span style=\"color: #0087ff; text-decoration-color: #0087ff\">AveragePooling3D</span>)              │                        │               │\n",
       "├─────────────────────────────────┼────────────────────────┼───────────────┤\n",
       "│ conv3d_1 (<span style=\"color: #0087ff; text-decoration-color: #0087ff\">Conv3D</span>)               │ (<span style=\"color: #00d7ff; text-decoration-color: #00d7ff\">None</span>, <span style=\"color: #00af00; text-decoration-color: #00af00\">87</span>, <span style=\"color: #00af00; text-decoration-color: #00af00\">87</span>, <span style=\"color: #00af00; text-decoration-color: #00af00\">87</span>, <span style=\"color: #00af00; text-decoration-color: #00af00\">32</span>) │       <span style=\"color: #00af00; text-decoration-color: #00af00\">175,648</span> │\n",
       "├─────────────────────────────────┼────────────────────────┼───────────────┤\n",
       "│ re_lu_1 (<span style=\"color: #0087ff; text-decoration-color: #0087ff\">ReLU</span>)                  │ (<span style=\"color: #00d7ff; text-decoration-color: #00d7ff\">None</span>, <span style=\"color: #00af00; text-decoration-color: #00af00\">87</span>, <span style=\"color: #00af00; text-decoration-color: #00af00\">87</span>, <span style=\"color: #00af00; text-decoration-color: #00af00\">87</span>, <span style=\"color: #00af00; text-decoration-color: #00af00\">32</span>) │             <span style=\"color: #00af00; text-decoration-color: #00af00\">0</span> │\n",
       "├─────────────────────────────────┼────────────────────────┼───────────────┤\n",
       "│ average_pooling3d_1             │ (<span style=\"color: #00d7ff; text-decoration-color: #00d7ff\">None</span>, <span style=\"color: #00af00; text-decoration-color: #00af00\">86</span>, <span style=\"color: #00af00; text-decoration-color: #00af00\">86</span>, <span style=\"color: #00af00; text-decoration-color: #00af00\">86</span>, <span style=\"color: #00af00; text-decoration-color: #00af00\">32</span>) │             <span style=\"color: #00af00; text-decoration-color: #00af00\">0</span> │\n",
       "│ (<span style=\"color: #0087ff; text-decoration-color: #0087ff\">AveragePooling3D</span>)              │                        │               │\n",
       "├─────────────────────────────────┼────────────────────────┼───────────────┤\n",
       "│ conv3d_2 (<span style=\"color: #0087ff; text-decoration-color: #0087ff\">Conv3D</span>)               │ (<span style=\"color: #00d7ff; text-decoration-color: #00d7ff\">None</span>, <span style=\"color: #00af00; text-decoration-color: #00af00\">80</span>, <span style=\"color: #00af00; text-decoration-color: #00af00\">80</span>, <span style=\"color: #00af00; text-decoration-color: #00af00\">80</span>, <span style=\"color: #00af00; text-decoration-color: #00af00\">64</span>) │       <span style=\"color: #00af00; text-decoration-color: #00af00\">702,528</span> │\n",
       "├─────────────────────────────────┼────────────────────────┼───────────────┤\n",
       "│ re_lu_2 (<span style=\"color: #0087ff; text-decoration-color: #0087ff\">ReLU</span>)                  │ (<span style=\"color: #00d7ff; text-decoration-color: #00d7ff\">None</span>, <span style=\"color: #00af00; text-decoration-color: #00af00\">80</span>, <span style=\"color: #00af00; text-decoration-color: #00af00\">80</span>, <span style=\"color: #00af00; text-decoration-color: #00af00\">80</span>, <span style=\"color: #00af00; text-decoration-color: #00af00\">64</span>) │             <span style=\"color: #00af00; text-decoration-color: #00af00\">0</span> │\n",
       "├─────────────────────────────────┼────────────────────────┼───────────────┤\n",
       "│ average_pooling3d_2             │ (<span style=\"color: #00d7ff; text-decoration-color: #00d7ff\">None</span>, <span style=\"color: #00af00; text-decoration-color: #00af00\">40</span>, <span style=\"color: #00af00; text-decoration-color: #00af00\">40</span>, <span style=\"color: #00af00; text-decoration-color: #00af00\">40</span>, <span style=\"color: #00af00; text-decoration-color: #00af00\">64</span>) │             <span style=\"color: #00af00; text-decoration-color: #00af00\">0</span> │\n",
       "│ (<span style=\"color: #0087ff; text-decoration-color: #0087ff\">AveragePooling3D</span>)              │                        │               │\n",
       "├─────────────────────────────────┼────────────────────────┼───────────────┤\n",
       "│ conv3d_3 (<span style=\"color: #0087ff; text-decoration-color: #0087ff\">Conv3D</span>)               │ (<span style=\"color: #00d7ff; text-decoration-color: #00d7ff\">None</span>, <span style=\"color: #00af00; text-decoration-color: #00af00\">34</span>, <span style=\"color: #00af00; text-decoration-color: #00af00\">34</span>, <span style=\"color: #00af00; text-decoration-color: #00af00\">34</span>,     │     <span style=\"color: #00af00; text-decoration-color: #00af00\">2,809,984</span> │\n",
       "│                                 │ <span style=\"color: #00af00; text-decoration-color: #00af00\">128</span>)                   │               │\n",
       "├─────────────────────────────────┼────────────────────────┼───────────────┤\n",
       "│ re_lu_3 (<span style=\"color: #0087ff; text-decoration-color: #0087ff\">ReLU</span>)                  │ (<span style=\"color: #00d7ff; text-decoration-color: #00d7ff\">None</span>, <span style=\"color: #00af00; text-decoration-color: #00af00\">34</span>, <span style=\"color: #00af00; text-decoration-color: #00af00\">34</span>, <span style=\"color: #00af00; text-decoration-color: #00af00\">34</span>,     │             <span style=\"color: #00af00; text-decoration-color: #00af00\">0</span> │\n",
       "│                                 │ <span style=\"color: #00af00; text-decoration-color: #00af00\">128</span>)                   │               │\n",
       "├─────────────────────────────────┼────────────────────────┼───────────────┤\n",
       "│ global_average_pooling3d        │ (<span style=\"color: #00d7ff; text-decoration-color: #00d7ff\">None</span>, <span style=\"color: #00af00; text-decoration-color: #00af00\">128</span>)            │             <span style=\"color: #00af00; text-decoration-color: #00af00\">0</span> │\n",
       "│ (<span style=\"color: #0087ff; text-decoration-color: #0087ff\">GlobalAveragePooling3D</span>)        │                        │               │\n",
       "├─────────────────────────────────┼────────────────────────┼───────────────┤\n",
       "│ dropout (<span style=\"color: #0087ff; text-decoration-color: #0087ff\">Dropout</span>)               │ (<span style=\"color: #00d7ff; text-decoration-color: #00d7ff\">None</span>, <span style=\"color: #00af00; text-decoration-color: #00af00\">128</span>)            │             <span style=\"color: #00af00; text-decoration-color: #00af00\">0</span> │\n",
       "├─────────────────────────────────┼────────────────────────┼───────────────┤\n",
       "│ flatten (<span style=\"color: #0087ff; text-decoration-color: #0087ff\">Flatten</span>)               │ (<span style=\"color: #00d7ff; text-decoration-color: #00d7ff\">None</span>, <span style=\"color: #00af00; text-decoration-color: #00af00\">128</span>)            │             <span style=\"color: #00af00; text-decoration-color: #00af00\">0</span> │\n",
       "├─────────────────────────────────┼────────────────────────┼───────────────┤\n",
       "│ dense (<span style=\"color: #0087ff; text-decoration-color: #0087ff\">Dense</span>)                   │ (<span style=\"color: #00d7ff; text-decoration-color: #00d7ff\">None</span>, <span style=\"color: #00af00; text-decoration-color: #00af00\">256</span>)            │        <span style=\"color: #00af00; text-decoration-color: #00af00\">33,024</span> │\n",
       "├─────────────────────────────────┼────────────────────────┼───────────────┤\n",
       "│ re_lu_4 (<span style=\"color: #0087ff; text-decoration-color: #0087ff\">ReLU</span>)                  │ (<span style=\"color: #00d7ff; text-decoration-color: #00d7ff\">None</span>, <span style=\"color: #00af00; text-decoration-color: #00af00\">256</span>)            │             <span style=\"color: #00af00; text-decoration-color: #00af00\">0</span> │\n",
       "├─────────────────────────────────┼────────────────────────┼───────────────┤\n",
       "│ dropout_1 (<span style=\"color: #0087ff; text-decoration-color: #0087ff\">Dropout</span>)             │ (<span style=\"color: #00d7ff; text-decoration-color: #00d7ff\">None</span>, <span style=\"color: #00af00; text-decoration-color: #00af00\">256</span>)            │             <span style=\"color: #00af00; text-decoration-color: #00af00\">0</span> │\n",
       "├─────────────────────────────────┼────────────────────────┼───────────────┤\n",
       "│ dense_1 (<span style=\"color: #0087ff; text-decoration-color: #0087ff\">Dense</span>)                 │ (<span style=\"color: #00d7ff; text-decoration-color: #00d7ff\">None</span>, <span style=\"color: #00af00; text-decoration-color: #00af00\">3</span>)              │           <span style=\"color: #00af00; text-decoration-color: #00af00\">771</span> │\n",
       "├─────────────────────────────────┼────────────────────────┼───────────────┤\n",
       "│ softmax (<span style=\"color: #0087ff; text-decoration-color: #0087ff\">Softmax</span>)               │ (<span style=\"color: #00d7ff; text-decoration-color: #00d7ff\">None</span>, <span style=\"color: #00af00; text-decoration-color: #00af00\">3</span>)              │             <span style=\"color: #00af00; text-decoration-color: #00af00\">0</span> │\n",
       "└─────────────────────────────────┴────────────────────────┴───────────────┘\n",
       "</pre>\n"
      ],
      "text/plain": [
       "┏━━━━━━━━━━━━━━━━━━━━━━━━━━━━━━━━━┳━━━━━━━━━━━━━━━━━━━━━━━━┳━━━━━━━━━━━━━━━┓\n",
       "┃\u001b[1m \u001b[0m\u001b[1mLayer (type)                   \u001b[0m\u001b[1m \u001b[0m┃\u001b[1m \u001b[0m\u001b[1mOutput Shape          \u001b[0m\u001b[1m \u001b[0m┃\u001b[1m \u001b[0m\u001b[1m      Param #\u001b[0m\u001b[1m \u001b[0m┃\n",
       "┡━━━━━━━━━━━━━━━━━━━━━━━━━━━━━━━━━╇━━━━━━━━━━━━━━━━━━━━━━━━╇━━━━━━━━━━━━━━━┩\n",
       "│ conv3d (\u001b[38;5;33mConv3D\u001b[0m)                 │ (\u001b[38;5;45mNone\u001b[0m, \u001b[38;5;34m94\u001b[0m, \u001b[38;5;34m94\u001b[0m, \u001b[38;5;34m94\u001b[0m, \u001b[38;5;34m16\u001b[0m) │         \u001b[38;5;34m5,504\u001b[0m │\n",
       "├─────────────────────────────────┼────────────────────────┼───────────────┤\n",
       "│ re_lu (\u001b[38;5;33mReLU\u001b[0m)                    │ (\u001b[38;5;45mNone\u001b[0m, \u001b[38;5;34m94\u001b[0m, \u001b[38;5;34m94\u001b[0m, \u001b[38;5;34m94\u001b[0m, \u001b[38;5;34m16\u001b[0m) │             \u001b[38;5;34m0\u001b[0m │\n",
       "├─────────────────────────────────┼────────────────────────┼───────────────┤\n",
       "│ average_pooling3d               │ (\u001b[38;5;45mNone\u001b[0m, \u001b[38;5;34m93\u001b[0m, \u001b[38;5;34m93\u001b[0m, \u001b[38;5;34m93\u001b[0m, \u001b[38;5;34m16\u001b[0m) │             \u001b[38;5;34m0\u001b[0m │\n",
       "│ (\u001b[38;5;33mAveragePooling3D\u001b[0m)              │                        │               │\n",
       "├─────────────────────────────────┼────────────────────────┼───────────────┤\n",
       "│ conv3d_1 (\u001b[38;5;33mConv3D\u001b[0m)               │ (\u001b[38;5;45mNone\u001b[0m, \u001b[38;5;34m87\u001b[0m, \u001b[38;5;34m87\u001b[0m, \u001b[38;5;34m87\u001b[0m, \u001b[38;5;34m32\u001b[0m) │       \u001b[38;5;34m175,648\u001b[0m │\n",
       "├─────────────────────────────────┼────────────────────────┼───────────────┤\n",
       "│ re_lu_1 (\u001b[38;5;33mReLU\u001b[0m)                  │ (\u001b[38;5;45mNone\u001b[0m, \u001b[38;5;34m87\u001b[0m, \u001b[38;5;34m87\u001b[0m, \u001b[38;5;34m87\u001b[0m, \u001b[38;5;34m32\u001b[0m) │             \u001b[38;5;34m0\u001b[0m │\n",
       "├─────────────────────────────────┼────────────────────────┼───────────────┤\n",
       "│ average_pooling3d_1             │ (\u001b[38;5;45mNone\u001b[0m, \u001b[38;5;34m86\u001b[0m, \u001b[38;5;34m86\u001b[0m, \u001b[38;5;34m86\u001b[0m, \u001b[38;5;34m32\u001b[0m) │             \u001b[38;5;34m0\u001b[0m │\n",
       "│ (\u001b[38;5;33mAveragePooling3D\u001b[0m)              │                        │               │\n",
       "├─────────────────────────────────┼────────────────────────┼───────────────┤\n",
       "│ conv3d_2 (\u001b[38;5;33mConv3D\u001b[0m)               │ (\u001b[38;5;45mNone\u001b[0m, \u001b[38;5;34m80\u001b[0m, \u001b[38;5;34m80\u001b[0m, \u001b[38;5;34m80\u001b[0m, \u001b[38;5;34m64\u001b[0m) │       \u001b[38;5;34m702,528\u001b[0m │\n",
       "├─────────────────────────────────┼────────────────────────┼───────────────┤\n",
       "│ re_lu_2 (\u001b[38;5;33mReLU\u001b[0m)                  │ (\u001b[38;5;45mNone\u001b[0m, \u001b[38;5;34m80\u001b[0m, \u001b[38;5;34m80\u001b[0m, \u001b[38;5;34m80\u001b[0m, \u001b[38;5;34m64\u001b[0m) │             \u001b[38;5;34m0\u001b[0m │\n",
       "├─────────────────────────────────┼────────────────────────┼───────────────┤\n",
       "│ average_pooling3d_2             │ (\u001b[38;5;45mNone\u001b[0m, \u001b[38;5;34m40\u001b[0m, \u001b[38;5;34m40\u001b[0m, \u001b[38;5;34m40\u001b[0m, \u001b[38;5;34m64\u001b[0m) │             \u001b[38;5;34m0\u001b[0m │\n",
       "│ (\u001b[38;5;33mAveragePooling3D\u001b[0m)              │                        │               │\n",
       "├─────────────────────────────────┼────────────────────────┼───────────────┤\n",
       "│ conv3d_3 (\u001b[38;5;33mConv3D\u001b[0m)               │ (\u001b[38;5;45mNone\u001b[0m, \u001b[38;5;34m34\u001b[0m, \u001b[38;5;34m34\u001b[0m, \u001b[38;5;34m34\u001b[0m,     │     \u001b[38;5;34m2,809,984\u001b[0m │\n",
       "│                                 │ \u001b[38;5;34m128\u001b[0m)                   │               │\n",
       "├─────────────────────────────────┼────────────────────────┼───────────────┤\n",
       "│ re_lu_3 (\u001b[38;5;33mReLU\u001b[0m)                  │ (\u001b[38;5;45mNone\u001b[0m, \u001b[38;5;34m34\u001b[0m, \u001b[38;5;34m34\u001b[0m, \u001b[38;5;34m34\u001b[0m,     │             \u001b[38;5;34m0\u001b[0m │\n",
       "│                                 │ \u001b[38;5;34m128\u001b[0m)                   │               │\n",
       "├─────────────────────────────────┼────────────────────────┼───────────────┤\n",
       "│ global_average_pooling3d        │ (\u001b[38;5;45mNone\u001b[0m, \u001b[38;5;34m128\u001b[0m)            │             \u001b[38;5;34m0\u001b[0m │\n",
       "│ (\u001b[38;5;33mGlobalAveragePooling3D\u001b[0m)        │                        │               │\n",
       "├─────────────────────────────────┼────────────────────────┼───────────────┤\n",
       "│ dropout (\u001b[38;5;33mDropout\u001b[0m)               │ (\u001b[38;5;45mNone\u001b[0m, \u001b[38;5;34m128\u001b[0m)            │             \u001b[38;5;34m0\u001b[0m │\n",
       "├─────────────────────────────────┼────────────────────────┼───────────────┤\n",
       "│ flatten (\u001b[38;5;33mFlatten\u001b[0m)               │ (\u001b[38;5;45mNone\u001b[0m, \u001b[38;5;34m128\u001b[0m)            │             \u001b[38;5;34m0\u001b[0m │\n",
       "├─────────────────────────────────┼────────────────────────┼───────────────┤\n",
       "│ dense (\u001b[38;5;33mDense\u001b[0m)                   │ (\u001b[38;5;45mNone\u001b[0m, \u001b[38;5;34m256\u001b[0m)            │        \u001b[38;5;34m33,024\u001b[0m │\n",
       "├─────────────────────────────────┼────────────────────────┼───────────────┤\n",
       "│ re_lu_4 (\u001b[38;5;33mReLU\u001b[0m)                  │ (\u001b[38;5;45mNone\u001b[0m, \u001b[38;5;34m256\u001b[0m)            │             \u001b[38;5;34m0\u001b[0m │\n",
       "├─────────────────────────────────┼────────────────────────┼───────────────┤\n",
       "│ dropout_1 (\u001b[38;5;33mDropout\u001b[0m)             │ (\u001b[38;5;45mNone\u001b[0m, \u001b[38;5;34m256\u001b[0m)            │             \u001b[38;5;34m0\u001b[0m │\n",
       "├─────────────────────────────────┼────────────────────────┼───────────────┤\n",
       "│ dense_1 (\u001b[38;5;33mDense\u001b[0m)                 │ (\u001b[38;5;45mNone\u001b[0m, \u001b[38;5;34m3\u001b[0m)              │           \u001b[38;5;34m771\u001b[0m │\n",
       "├─────────────────────────────────┼────────────────────────┼───────────────┤\n",
       "│ softmax (\u001b[38;5;33mSoftmax\u001b[0m)               │ (\u001b[38;5;45mNone\u001b[0m, \u001b[38;5;34m3\u001b[0m)              │             \u001b[38;5;34m0\u001b[0m │\n",
       "└─────────────────────────────────┴────────────────────────┴───────────────┘\n"
      ]
     },
     "metadata": {},
     "output_type": "display_data"
    },
    {
     "data": {
      "text/html": [
       "<pre style=\"white-space:pre;overflow-x:auto;line-height:normal;font-family:Menlo,'DejaVu Sans Mono',consolas,'Courier New',monospace\"><span style=\"font-weight: bold\"> Total params: </span><span style=\"color: #00af00; text-decoration-color: #00af00\">3,727,459</span> (14.22 MB)\n",
       "</pre>\n"
      ],
      "text/plain": [
       "\u001b[1m Total params: \u001b[0m\u001b[38;5;34m3,727,459\u001b[0m (14.22 MB)\n"
      ]
     },
     "metadata": {},
     "output_type": "display_data"
    },
    {
     "data": {
      "text/html": [
       "<pre style=\"white-space:pre;overflow-x:auto;line-height:normal;font-family:Menlo,'DejaVu Sans Mono',consolas,'Courier New',monospace\"><span style=\"font-weight: bold\"> Trainable params: </span><span style=\"color: #00af00; text-decoration-color: #00af00\">3,727,459</span> (14.22 MB)\n",
       "</pre>\n"
      ],
      "text/plain": [
       "\u001b[1m Trainable params: \u001b[0m\u001b[38;5;34m3,727,459\u001b[0m (14.22 MB)\n"
      ]
     },
     "metadata": {},
     "output_type": "display_data"
    },
    {
     "data": {
      "text/html": [
       "<pre style=\"white-space:pre;overflow-x:auto;line-height:normal;font-family:Menlo,'DejaVu Sans Mono',consolas,'Courier New',monospace\"><span style=\"font-weight: bold\"> Non-trainable params: </span><span style=\"color: #00af00; text-decoration-color: #00af00\">0</span> (0.00 B)\n",
       "</pre>\n"
      ],
      "text/plain": [
       "\u001b[1m Non-trainable params: \u001b[0m\u001b[38;5;34m0\u001b[0m (0.00 B)\n"
      ]
     },
     "metadata": {},
     "output_type": "display_data"
    }
   ],
   "source": [
    "from keras.models import Model\n",
    "from keras.layers import (\n",
    "    Input,\n",
    "    Conv3D,\n",
    "    ReLU,\n",
    "    AveragePooling3D,\n",
    "    Dropout,\n",
    "    Flatten,\n",
    "    Dense,\n",
    "    Softmax,\n",
    ")\n",
    "from keras.initializers import GlorotUniform\n",
    "\n",
    "\n",
    "# class ADDNet3DBuilder:\n",
    "#     \"\"\"3D CNN Builder for a specified architecture.\"\"\"\n",
    "\n",
    "#     @staticmethod\n",
    "#     def build(input_shape, num_outputs, dropout_rates=(0.01, 0.03)):\n",
    "#         \"\"\"\n",
    "#         Build the 3D CNN model.\n",
    "\n",
    "#         # Arguments:\n",
    "#             input_shape: Tuple of input shape (depth, height, width, channels).\n",
    "#             num_outputs: Number of output classes.\n",
    "#             dropout_rates: Tuple of dropout rates (dropout1, dropout2).\n",
    "#         # Returns:\n",
    "#             model: A 3D CNN Keras model.\n",
    "#         \"\"\"\n",
    "#         init = GlorotUniform()\n",
    "\n",
    "#         input_layer = Input(shape=input_shape)\n",
    "\n",
    "#         # First Conv3D block\n",
    "#         x = Conv3D(16, kernel_size=(7, 7, 7), kernel_initializer=init)(input_layer)\n",
    "#         x = ReLU()(x)\n",
    "#         x = AveragePooling3D(pool_size=(3, 3, 3))(x)\n",
    "\n",
    "#         # Second Conv3D block\n",
    "#         x = Conv3D(32, kernel_size=(7, 7, 7), kernel_initializer=init)(x)\n",
    "#         x = ReLU()(x)\n",
    "#         x = AveragePooling3D(pool_size=(3, 3, 3))(x)\n",
    "\n",
    "#         # Third Conv3D block\n",
    "#         x = Conv3D(64, kernel_size=(7, 7, 7), kernel_initializer=init)(x)\n",
    "#         x = ReLU()(x)\n",
    "#         x = AveragePooling3D(pool_size=(3, 3, 3))(x)\n",
    "\n",
    "#         # Fourth Conv3D block\n",
    "#         x = Conv3D(128, kernel_size=(7, 7, 7), kernel_initializer=init)(x)\n",
    "#         x = ReLU()(x)\n",
    "#         x = AveragePooling3D(pool_size=(3, 3, 3))(x)\n",
    "\n",
    "#         # Dropout\n",
    "#         x = Dropout(dropout_rates[0])(x)\n",
    "\n",
    "#         # Fully connected layers\n",
    "#         x = Flatten()(x)\n",
    "#         x = Dense(256, kernel_initializer=init)(x)\n",
    "#         x = ReLU()(x)\n",
    "#         x = Dropout(dropout_rates[1])(x)\n",
    "\n",
    "#         # Output layer\n",
    "#         output_layer = Dense(num_outputs, kernel_initializer=init)(x)\n",
    "#         output_layer = Softmax()(output_layer)\n",
    "\n",
    "#         # Build model\n",
    "#         model = Model(inputs=input_layer, outputs=output_layer)\n",
    "#         return model\n",
    "\n",
    "\n",
    "# # Example usage\n",
    "# model = ADDNet3DBuilder.build(\n",
    "#     input_shape=(100, 100, 100, 1),  # Example 3D input (depth=176, height=208, width=3, channels=1)\n",
    "#     num_outputs=2,                # Number of output classes\n",
    "# )\n",
    "# model.summary()\n",
    "\n",
    "import tensorflow as tf\n",
    "from tensorflow.keras.models import Sequential\n",
    "from tensorflow.keras.layers import (\n",
    "    Input, Conv2D, ReLU, AveragePooling2D, Dropout,\n",
    "    Flatten, Dense, Softmax, GlobalAveragePooling3D\n",
    ")\n",
    "from tensorflow.keras.initializers import GlorotUniform\n",
    "# import tensorflow_addons as tfa\n",
    "from tensorflow.keras.optimizers import Adam\n",
    "\n",
    "\n",
    "from tensorflow.keras.models import Sequential\n",
    "from tensorflow.keras.layers import (\n",
    "    Input, Conv3D, AveragePooling3D, Flatten, Dense, ReLU, Dropout, Softmax\n",
    ")\n",
    "from tensorflow.keras.initializers import GlorotUniform\n",
    "\n",
    "# Initialize the weights\n",
    "init = GlorotUniform()\n",
    "\n",
    "# Define the model\n",
    "model = Sequential([\n",
    "    # Input layer (e.g., 3D shape like (depth, height, width, channels))\n",
    "    Input(shape=(100, 100, 100, 1)),\n",
    "\n",
    "    # 3D convolutional layers\n",
    "    Conv3D(16, kernel_size=7, kernel_initializer=init),\n",
    "    ReLU(),\n",
    "    AveragePooling3D(pool_size=(2, 2, 2), strides=(1, 1, 1)),\n",
    "\n",
    "    Conv3D(32, kernel_size=7, kernel_initializer=init),\n",
    "    ReLU(),\n",
    "    AveragePooling3D(pool_size=(2, 2, 2), strides=(1, 1, 1)),\n",
    "\n",
    "    Conv3D(64, kernel_size=7, kernel_initializer=init),\n",
    "    ReLU(),\n",
    "    AveragePooling3D(pool_size=(2, 2, 2)),\n",
    "    \n",
    "\n",
    "    Conv3D(128, kernel_size=7, kernel_initializer=init),\n",
    "    ReLU(),\n",
    "    # AveragePooling3D(pool_size=(2, 2, 2), strides=(1, 1, 1)),\n",
    "    GlobalAveragePooling3D(),\n",
    "\n",
    "    # Dropout layer\n",
    "    Dropout(0.2),\n",
    "    \n",
    "    # Flatten the 3D volume to a 1D vector\n",
    "    Flatten(),\n",
    "\n",
    "    # Fully connected layers\n",
    "    Dense(256, kernel_initializer=init),\n",
    "    ReLU(),\n",
    "    Dropout(0.5),\n",
    "\n",
    "    # Output layer (e.g., 2 classes)\n",
    "    Dense(3, kernel_initializer=init),\n",
    "    Softmax()\n",
    "])\n",
    "\n",
    "\n",
    "# model.compile(\n",
    "#     optimizer=Adam(0.001), \n",
    "#     loss='binary_crossentropy', \n",
    "#     metrics=['accuracy', 'Recall', 'AUC', 'Precision']\n",
    "# )\n",
    "\n",
    "model.summary()"
   ]
  },
  {
   "cell_type": "markdown",
   "metadata": {},
   "source": [
    "Image Preprocessing"
   ]
  },
  {
   "cell_type": "code",
   "execution_count": 6,
   "metadata": {},
   "outputs": [],
   "source": [
    "# Testing the model\n",
    "def apply_mask(aseg_image, brain_image, labels = [17, 53, 2, 7, 41, 46]):\n",
    "    brain_data = aseg_image.get_fdata()\n",
    "    aseg_data = aseg_image.get_fdata()\n",
    "    origin_data = brain_image.get_fdata()\n",
    "    \n",
    "    brain_mask = np.zeros_like(aseg_data)\n",
    "    for label in labels:\n",
    "        brain_mask += np.where((aseg_data == label), 1, 0)\n",
    "\n",
    "#     segmented_brain_image = brain_data * brain_mask\n",
    "#     segmented_brain_image = nibabel.Nifti1Image(segmented_brain_image, affine=None)\n",
    "    new_image = origin_data * brain_mask\n",
    "    \n",
    "    return new_image\n",
    "\n",
    "def enhance_slice(slice_data):\n",
    "    clahe = cv2.createCLAHE(clipLimit=2.0, tileGridSize=(8, 8))\n",
    "    enhanced_slice = clahe.apply(slice_data.astype(np.uint8))\n",
    "\n",
    "    return enhanced_slice\n",
    "\n",
    "def enhance_image(img_data):\n",
    "    enhanced_slices = []\n",
    "    \n",
    "    for slice_idx in range(img_data.shape[2]):\n",
    "        slice_data = img_data[:, :, slice_idx]\n",
    "        enhanced_slice = enhance_slice(slice_data)\n",
    "        enhanced_slices.append(enhanced_slice)\n",
    "    enhanced_volume = np.dstack(enhanced_slices)\n",
    "\n",
    "    return enhanced_volume\n",
    "\n",
    "def sharpen_image(image, strength=1.0):\n",
    "    sharpened_image = unsharp_mask(image, radius=1, amount=strength)\n",
    "    return sharpened_image\n",
    "\n",
    "def apply_nonlinear_registration(moving_image, fixed_image):\n",
    "    metric = CCMetric(3)\n",
    "\n",
    "    sdr = SymmetricDiffeomorphicRegistration(metric, [10, 10, 10], step_length=0.25, ss_sigma_factor=1.5)\n",
    "\n",
    "    mapping = sdr.optimize(fixed_image, moving_image)\n",
    "\n",
    "    warped_moving_image = mapping.transform(moving_image)\n",
    "\n",
    "    return warped_moving_image"
   ]
  },
  {
   "cell_type": "code",
   "execution_count": 7,
   "metadata": {},
   "outputs": [],
   "source": [
    "def image_fixed(image_type, target_shape):\n",
    "    aseg_image = nibabel.load('AD/I65597.nii')\n",
    "    base_path = \"AD/I65597.nii/mri/orig.mgz\"\n",
    "    origin_image =  nibabel.load(base_path)\n",
    "    \n",
    "    if (image_type=='nonroi') :\n",
    "        aseg_image = aseg_image.get_fdata()\n",
    "        origin_image = origin_image.get_fdata()\n",
    "        \n",
    "        mask = np.where(asg_img != 0, 1, 0)\n",
    "        image = origin_image * mask\n",
    "        image = enhance_image(image)\n",
    "        image = resize(image, target_shape, anti_aliasing=True)\n",
    "        image = sharpen_image(image)\n",
    "        \n",
    "        return image"
   ]
  },
  {
   "cell_type": "code",
   "execution_count": 8,
   "metadata": {},
   "outputs": [],
   "source": [
    "from scipy.ndimage import rotate\n",
    "\n",
    "def augment(image, rotation_range):\n",
    "    rotation_angle = np.random.uniform(-rotation_range, rotation_range)\n",
    "    rotated_image = rotate(image, rotation_angle, reshape=False)\n",
    "    return rotated_image\n",
    "\n",
    "\n",
    "def image_load_nonRoi(image_path, target_shape, type_dt=''):\n",
    "    asg_img = nibabel.load(image_path).get_fdata()\n",
    "    # print(image_path)\n",
    "    # print(image_path.split(\"\\\\\")[:-1])\n",
    "    # \"\\\\\".join(image_path.split(\"\\\\\")[:-1])\n",
    "    \n",
    "    origin_path = \"\\\\\".join(image_path.split(\"\\\\\")[:-1]) + \"/orig.mgz\"\n",
    "    # print(origin_path)\n",
    "    origin_image = nibabel.load(origin_path).get_fdata()\n",
    "    mask = np.where(asg_img != 0, 1, 0)\n",
    "    \n",
    "    image = origin_image * mask\n",
    "    image = resize(image, target_shape, anti_aliasing=True)\n",
    "    image = enhance_image(image)\n",
    "    image = sharpen_image(image)\n",
    "\n",
    "    \n",
    "    if type_dt=='train':\n",
    "        image = augment(image, 50)\n",
    "        \n",
    "    return image\n",
    "\n",
    "def data_generator(paths, labels, batch_size, target_shape, image_type, type_dt=''):\n",
    "    while True:\n",
    "        for i in range(0, len(paths), batch_size):\n",
    "            batch_paths = paths[i:i+batch_size]\n",
    "            batch_labels = labels[i:i+batch_size]\n",
    "            batch_images = []\n",
    "            \n",
    "    \n",
    "            if image_type == 'nonroi':\n",
    "                batch_images = [image_load_nonRoi(image, target_shape, type_dt) for image in batch_paths]\n",
    "\n",
    "            batch_images = np.stack([batch_images] * 1, axis=-1)\n",
    "\n",
    "            batch_labels = to_categorical(batch_labels, num_classes=3)\n",
    "            yield np.array(batch_images), batch_labels\n",
    "base_dir = ''\n",
    "ad = os.path.join(base_dir, 'dataset/AD')\n",
    "mci = os.path.join(base_dir, 'dataset/MCI')\n",
    "cn = os.path.join(base_dir, 'dataset/CN')\n",
    "# original shape (257, 257, 257)\n",
    "\n",
    "ad_images= []\n",
    "mci_images = []\n",
    "cn_images = []\n",
    "\n",
    "for subject_dir in os.listdir(cn):\n",
    "    mri_path = os.path.join(cn, subject_dir, 'mri', 'aparc.DKTatlas+aseg.deep.mgz')\n",
    "    if not (len(os.listdir(os.path.join(cn, subject_dir, 'mri'))) < 6):\n",
    "        cn_images.append(mri_path)\n",
    "\n",
    "for subject_dir in os.listdir(ad):\n",
    "    mri_path = os.path.join(ad, subject_dir, 'mri', 'aparc.DKTatlas+aseg.deep.mgz')\n",
    "    if not (len(os.listdir(os.path.join(ad, subject_dir, 'mri'))) < 6):\n",
    "        ad_images.append(mri_path)\n",
    "        \n",
    "for subject_dir in os.listdir(mci):\n",
    "    mri_path = os.path.join(mci, subject_dir, 'mri', 'aparc.DKTatlas+aseg.deep.mgz')\n",
    "    \n",
    "    if not (len(os.listdir(os.path.join(mci, subject_dir, 'mri'))) < 6):\n",
    "        mci_images.append(mri_path)\n",
    "\n",
    "for subject_dir in os.listdir(cn):\n",
    "    mri_path = os.path.join(cn, subject_dir, 'mri', 'aparc.DKTatlas+aseg.deep.mgz')\n",
    "    if not (len(os.listdir(os.path.join(cn, subject_dir, 'mri'))) < 6):\n",
    "        cn_images.append(mri_path)\n",
    "        "
   ]
  },
  {
   "cell_type": "code",
   "execution_count": 9,
   "metadata": {},
   "outputs": [],
   "source": [
    "image_path = mci_images + cn_images + cn_images[:len(mci_images)-len(cn_images)]\n",
    "labels = [0] * len(mci_images) + [1] * len(cn_images) + [1] * len(cn_images[:len(mci_images)-len(cn_images)])\n",
    "train_paths, test_paths, train_labels, test_labels = train_test_split(image_path, labels, test_size = 0.2, random_state=42)"
   ]
  },
  {
   "cell_type": "code",
   "execution_count": null,
   "metadata": {},
   "outputs": [],
   "source": [
    "# Try this later:\n",
    "# from sklearn.utils import class_weight\n",
    "\n",
    "# class_weights = class_weight.compute_class_weight(\n",
    "#     class_weight=\"balanced\",\n",
    "#     classes=np.unique(train_labels.argmax(axis=1)),\n",
    "#     y=train_labels.argmax(axis=1)\n",
    "# )\n",
    "# class_weights = dict(enumerate(class_weights))\n",
    "\n",
    "class_weights = compute_class_weight('balanced', classes=np.unique(train_labels), y=train_labels)\n",
    "train_paths = np.array(train_paths)\n",
    "train_labels = np.array(train_labels)\n",
    "test_paths = np.array(test_paths)\n",
    "test_labels = np.array(test_labels)\n",
    "\n",
    "train_paths, train_labels = shuffle(train_paths, train_labels, random_state=42)\n",
    "test_paths, test_labels = shuffle(test_paths, test_labels, random_state=42)"
   ]
  },
  {
   "cell_type": "code",
   "execution_count": 11,
   "metadata": {},
   "outputs": [
    {
     "data": {
      "text/plain": [
       "(304, 1214, array([1.57662338, 0.73220748]))"
      ]
     },
     "execution_count": 11,
     "metadata": {},
     "output_type": "execute_result"
    }
   ],
   "source": [
    "target_shape = (100, 100, 100)\n",
    "batch_size = 8\n",
    "selection_type = 'nonroi'\n",
    "train_dataset = data_generator(train_paths, train_labels, batch_size, target_shape, \n",
    "                               image_type=selection_type, \n",
    "                               type_dt='train'\n",
    "                              )\n",
    "\n",
    "test_dataset = data_generator(test_paths, test_labels, batch_size, target_shape, \n",
    "                              image_type=selection_type\n",
    "                             )\n",
    "\n",
    "len(test_paths), len(train_labels), class_weights"
   ]
  },
  {
   "cell_type": "markdown",
   "metadata": {},
   "source": [
    "Compile the model"
   ]
  },
  {
   "cell_type": "code",
   "execution_count": 12,
   "metadata": {},
   "outputs": [],
   "source": [
    "# model.compile(\n",
    "#     optimizer=SGD(learning_rate=0.01), \n",
    "#     loss = tf.keras.losses.BinaryCrossentropy(name='loss'), \n",
    "#     metrics=[\n",
    "#         tf.keras.metrics.CategoricalAccuracy(name='acc'), \n",
    "#         tf.keras.metrics.AUC(name='auc'),\n",
    "#         # tfa.metrics.F1Score(num_classes=4),\n",
    "#         tf.metrics.Precision(name=\"precision\"),\n",
    "#         tf.metrics.Recall(name=\"recall\") ])\n",
    "\n",
    "from tensorflow.keras.optimizers import SGD\n",
    "# import tensorflow_addons as tfa\n",
    "\n",
    "model.compile(\n",
    "    optimizer=SGD(learning_rate=0.01), \n",
    "    loss=tf.keras.losses.CategoricalCrossentropy(name='loss'),  # Updated for 3 categories\n",
    "    metrics=[\n",
    "        tf.keras.metrics.CategoricalAccuracy(name='acc'),\n",
    "        tf.keras.metrics.AUC(name='auc', multi_label=True),  # Updated for multi-class AUC\n",
    "        # tfa.metrics.F1Score(num_classes=3, average='macro', name='f1_score'),  # Optional F1 score\n",
    "        tf.keras.metrics.Precision(name=\"precision\"),\n",
    "        tf.keras.metrics.Recall(name=\"recall\")\n",
    "    ]\n",
    ")"
   ]
  },
  {
   "cell_type": "code",
   "execution_count": null,
   "metadata": {},
   "outputs": [],
   "source": [
    "# Check for data leakage\n",
    "train_paths_set = set(train_paths)\n",
    "test_paths_set = set(test_paths)\n",
    "# val_paths_set = set(val_paths)\n",
    "\n",
    "assert len(train_paths_set & test_paths_set) == 0, \"Data leakage detected between train and test sets.\"\n",
    "# assert len(train_paths_set & val_paths_set) == 0, \"Data leakage detected between train and validation sets.\"\n",
    "# assert len(test_paths_set & val_paths_set) == 0, \"Data leakage detected between test and validation sets.\"\n"
   ]
  },
  {
   "cell_type": "code",
   "execution_count": null,
   "metadata": {},
   "outputs": [],
   "source": [
    "leakage = train_paths_set & test_paths_set\n",
    "print(f\"Number of overlapping paths: {len(leakage)}\")\n",
    "print(\"Overlapping paths:\", leakage)\n"
   ]
  },
  {
   "cell_type": "markdown",
   "metadata": {},
   "source": [
    "Training the model"
   ]
  },
  {
   "cell_type": "code",
   "execution_count": 13,
   "metadata": {},
   "outputs": [
    {
     "name": "stdout",
     "output_type": "stream",
     "text": [
      "\u001b[1m151/151\u001b[0m \u001b[32m━━━━━━━━━━━━━━━━━━━━\u001b[0m\u001b[37m\u001b[0m \u001b[1m19852s\u001b[0m 131s/step - acc: 0.5666 - auc: 0.3474 - loss: 0.8622 - precision: 0.5925 - recall: 0.3580 - val_acc: 0.6974 - val_auc: 0.2768 - val_loss: 0.6238 - val_precision: 0.6974 - val_recall: 0.6974\n"
     ]
    }
   ],
   "source": [
    "num_epoch = 1\n",
    "history = model.fit(\n",
    "    train_dataset,\n",
    "    epochs = num_epoch,\n",
    "    steps_per_epoch = len(train_paths) // batch_size,\n",
    "    validation_data = test_dataset,\n",
    "    validation_steps= len(test_paths) // batch_size,\n",
    ")"
   ]
  },
  {
   "cell_type": "code",
   "execution_count": 14,
   "metadata": {},
   "outputs": [],
   "source": [
    "model.save('ADDNet3D_All_data.keras')"
   ]
  },
  {
   "cell_type": "code",
   "execution_count": 20,
   "metadata": {},
   "outputs": [
    {
     "name": "stdout",
     "output_type": "stream",
     "text": [
      "Training set class distribution: Counter({1: 829, 0: 385})\n",
      "Test set class distribution: Counter({1: 212, 0: 92})\n"
     ]
    }
   ],
   "source": [
    "import collections\n",
    "\n",
    "# Check class balance\n",
    "print(\"Training set class distribution:\", collections.Counter(train_labels))\n",
    "# print(\"Validation set class distribution:\", collections.Counter(val_labels))\n",
    "print(\"Test set class distribution:\", collections.Counter(test_labels))"
   ]
  },
  {
   "cell_type": "code",
   "execution_count": 15,
   "metadata": {},
   "outputs": [
    {
     "name": "stdout",
     "output_type": "stream",
     "text": [
      "\u001b[1m38/38\u001b[0m \u001b[32m━━━━━━━━━━━━━━━━━━━━\u001b[0m\u001b[37m\u001b[0m \u001b[1m1083s\u001b[0m 29s/step - acc: 0.7074 - auc: 0.2797 - loss: 0.6137 - precision: 0.7074 - recall: 0.7074\n"
     ]
    }
   ],
   "source": [
    "res = model.evaluate(\n",
    "    test_dataset,\n",
    "    steps = len(test_paths) // batch_size,\n",
    "    batch_size = 8,\n",
    "    verbose = 1\n",
    ")"
   ]
  },
  {
   "cell_type": "code",
   "execution_count": 16,
   "metadata": {},
   "outputs": [
    {
     "name": "stdout",
     "output_type": "stream",
     "text": [
      "[0.6238309144973755, 0.6973684430122375, 0.2767893671989441, 0.6973684430122375, 0.6973684430122375]\n"
     ]
    }
   ],
   "source": [
    "print(res)"
   ]
  },
  {
   "cell_type": "code",
   "execution_count": null,
   "metadata": {},
   "outputs": [],
   "source": []
  }
 ],
 "metadata": {
  "kernelspec": {
   "display_name": "Python 3",
   "language": "python",
   "name": "python3"
  },
  "language_info": {
   "codemirror_mode": {
    "name": "ipython",
    "version": 3
   },
   "file_extension": ".py",
   "mimetype": "text/x-python",
   "name": "python",
   "nbconvert_exporter": "python",
   "pygments_lexer": "ipython3",
   "version": "3.12.4"
  }
 },
 "nbformat": 4,
 "nbformat_minor": 2
}
